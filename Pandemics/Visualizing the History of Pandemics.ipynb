{
 "cells": [
  {
   "cell_type": "markdown",
   "metadata": {},
   "source": [
    "## Visualizing the History of Pandemics"
   ]
  },
  {
   "cell_type": "markdown",
   "metadata": {},
   "source": [
    "<b>Topics Covered</b>\n",
    "<ul>\n",
    "  <li>Web Scraping</li>\n",
    "  <li>Data Cleaning using regex</li>\n",
    "  <li>Data Analysis</li>\n",
    "  <li>Data Plotting using plotly</li>\n",
    "</ul>"
   ]
  },
  {
   "cell_type": "markdown",
   "metadata": {},
   "source": [
    "### Importing the Libraries"
   ]
  },
  {
   "cell_type": "code",
   "execution_count": 423,
   "metadata": {},
   "outputs": [],
   "source": [
    "import requests\n",
    "import pandas as pd      \n",
    "from bs4 import BeautifulSoup as bs\n",
    "import re\n",
    "import plotly.express as px"
   ]
  },
  {
   "cell_type": "markdown",
   "metadata": {},
   "source": [
    "### Washington Post"
   ]
  },
  {
   "cell_type": "markdown",
   "metadata": {},
   "source": [
    "https://www.washingtonpost.com/graphics/2020/local/retropolis/coronavirus-deadliest-pandemics/"
   ]
  },
  {
   "cell_type": "code",
   "execution_count": 2,
   "metadata": {},
   "outputs": [],
   "source": [
    "wp_page = requests.get(\"https://www.washingtonpost.com/graphics/2020/local/retropolis/coronavirus-deadliest-pandemics/\")"
   ]
  },
  {
   "cell_type": "code",
   "execution_count": 3,
   "metadata": {},
   "outputs": [
    {
     "data": {
      "text/plain": [
       "200"
      ]
     },
     "execution_count": 3,
     "metadata": {},
     "output_type": "execute_result"
    }
   ],
   "source": [
    "wp_page.status_code"
   ]
  },
  {
   "cell_type": "code",
   "execution_count": 568,
   "metadata": {},
   "outputs": [],
   "source": [
    "wp_soup = bs(wp_page.content, 'html.parser')"
   ]
  },
  {
   "cell_type": "code",
   "execution_count": 5,
   "metadata": {},
   "outputs": [],
   "source": [
    "wp_virus_list=[item.get_text() for item in wp_soup.find_all('h2')][1:-1]"
   ]
  },
  {
   "cell_type": "code",
   "execution_count": 6,
   "metadata": {},
   "outputs": [
    {
     "data": {
      "text/plain": [
       "['Deaths: 5 million • Cause: Measles and smallpox',\n",
       " 'Deaths: 30-50 million • Source: Rats and fleas',\n",
       " 'Deaths: 75-200 million • Source: Rats and fleas',\n",
       " 'Deaths: 25-55 million • Cause: Variola virus',\n",
       " 'Deaths: 75,000-100,000 • Source: Rats and fleas',\n",
       " 'Deaths: 1 million • Cause: V. cholerae bacteria',\n",
       " 'Deaths: 150,000 • Source: Mosquitoes',\n",
       " 'Deaths: 50 million • Cause: H1N1',\n",
       " 'Deaths: 1 million • Cause: H2N2',\n",
       " 'Deaths: 200,000 • Cause: H1N1']"
      ]
     },
     "execution_count": 6,
     "metadata": {},
     "output_type": "execute_result"
    }
   ],
   "source": [
    "[names.get_text() for  names in wp_soup.find_all('h4')]"
   ]
  },
  {
   "cell_type": "code",
   "execution_count": 7,
   "metadata": {},
   "outputs": [],
   "source": [
    "wp_pandemicname_list=[]\n",
    "wp_pandemicname_regex=re.compile('([0-9a-zA-Z ,-]+)')\n",
    "for names in wp_soup.find_all('h2')[1:-1]:\n",
    "    if (wp_pandemicname_regex.search(names.text)!= None):\n",
    "        wp_pandemicname_list.append(wp_pandemicname_regex.search(names.text).group(1))"
   ]
  },
  {
   "cell_type": "code",
   "execution_count": 8,
   "metadata": {},
   "outputs": [
    {
     "data": {
      "text/plain": [
       "['Antonine Plague',\n",
       " 'Plague of Justinian',\n",
       " 'Black Death',\n",
       " 'New World smallpox',\n",
       " 'Great Plague of London',\n",
       " 'The cholera pandemics',\n",
       " 'Yellow fever',\n",
       " 'The 1918 flu',\n",
       " 'Asian flu',\n",
       " 'Swine flu']"
      ]
     },
     "execution_count": 8,
     "metadata": {},
     "output_type": "execute_result"
    }
   ],
   "source": [
    "wp_pandemicname_list"
   ]
  },
  {
   "cell_type": "code",
   "execution_count": 9,
   "metadata": {},
   "outputs": [],
   "source": [
    "wp_death_cause_regex=re.compile('Deaths:\\s([0-9a-zA-Z ,-]+)\\u2022\\s[a-zA-Z]+:\\s([a-zA-Z0-9. ]+)')"
   ]
  },
  {
   "cell_type": "code",
   "execution_count": 10,
   "metadata": {},
   "outputs": [],
   "source": [
    "wp_death_list=[]\n",
    "wp_cause_list=[]\n",
    "\n",
    "for names in wp_soup.find_all('h4'):\n",
    "    if (wp_death_cause_regex.search(names.text)!= None):\n",
    "        wp_death_list.append(wp_death_cause_regex.search(names.text).group(1))\n",
    "        wp_cause_list.append(wp_death_cause_regex.search(names.text).group(2))"
   ]
  },
  {
   "cell_type": "code",
   "execution_count": 11,
   "metadata": {},
   "outputs": [
    {
     "data": {
      "text/plain": [
       "(['5 million ',\n",
       "  '30-50 million ',\n",
       "  '75-200 million ',\n",
       "  '25-55 million ',\n",
       "  '75,000-100,000 ',\n",
       "  '1 million ',\n",
       "  '150,000 ',\n",
       "  '50 million ',\n",
       "  '1 million ',\n",
       "  '200,000 '],\n",
       " ['Measles and smallpox',\n",
       "  'Rats and fleas',\n",
       "  'Rats and fleas',\n",
       "  'Variola virus',\n",
       "  'Rats and fleas',\n",
       "  'V. cholerae bacteria',\n",
       "  'Mosquitoes',\n",
       "  'H1N1',\n",
       "  'H2N2',\n",
       "  'H1N1'])"
      ]
     },
     "execution_count": 11,
     "metadata": {},
     "output_type": "execute_result"
    }
   ],
   "source": [
    "wp_death_list,wp_cause_list"
   ]
  },
  {
   "cell_type": "code",
   "execution_count": 12,
   "metadata": {},
   "outputs": [],
   "source": [
    "wp_year_from_list=[]\n",
    "wp_year_to_list=[]\n",
    "wp_year_regex=re.compile('([0-9]+)-?([0-9a-z]+)?')\n",
    "for names in wp_soup.find_all('h5'):\n",
    "    if (wp_year_regex.search(names.text)!= None):\n",
    "        wp_year_from_list.append(wp_year_regex.search(names.text).group(1))\n",
    "        wp_year_to_list.append(wp_year_regex.search(names.text).group(2))"
   ]
  },
  {
   "cell_type": "code",
   "execution_count": 13,
   "metadata": {},
   "outputs": [
    {
     "data": {
      "text/plain": [
       "(['165',\n",
       "  '541',\n",
       "  '1347',\n",
       "  '1520',\n",
       "  '1665',\n",
       "  '1817',\n",
       "  '1800',\n",
       "  '1918',\n",
       "  '1957',\n",
       "  '2009'],\n",
       " ['180', '542', '1352', 'unknown', None, '1923', 's', '1920', '1958', None])"
      ]
     },
     "execution_count": 13,
     "metadata": {},
     "output_type": "execute_result"
    }
   ],
   "source": [
    "wp_year_from_list,wp_year_to_list"
   ]
  },
  {
   "cell_type": "code",
   "execution_count": 14,
   "metadata": {},
   "outputs": [],
   "source": [
    "wp_dict_data={'Pandemic Name':wp_pandemicname_list,'Cause':wp_cause_list,\n",
    "              'From':wp_year_from_list,'To':wp_year_to_list,'Death Count':wp_death_list}"
   ]
  },
  {
   "cell_type": "code",
   "execution_count": 15,
   "metadata": {},
   "outputs": [],
   "source": [
    "pandemic_df=pd.DataFrame(wp_dict_data)"
   ]
  },
  {
   "cell_type": "code",
   "execution_count": 16,
   "metadata": {},
   "outputs": [
    {
     "data": {
      "text/html": [
       "<div>\n",
       "<style scoped>\n",
       "    .dataframe tbody tr th:only-of-type {\n",
       "        vertical-align: middle;\n",
       "    }\n",
       "\n",
       "    .dataframe tbody tr th {\n",
       "        vertical-align: top;\n",
       "    }\n",
       "\n",
       "    .dataframe thead th {\n",
       "        text-align: right;\n",
       "    }\n",
       "</style>\n",
       "<table border=\"1\" class=\"dataframe\">\n",
       "  <thead>\n",
       "    <tr style=\"text-align: right;\">\n",
       "      <th></th>\n",
       "      <th>Pandemic Name</th>\n",
       "      <th>Cause</th>\n",
       "      <th>From</th>\n",
       "      <th>To</th>\n",
       "      <th>Death Count</th>\n",
       "    </tr>\n",
       "  </thead>\n",
       "  <tbody>\n",
       "    <tr>\n",
       "      <th>0</th>\n",
       "      <td>Antonine Plague</td>\n",
       "      <td>Measles and smallpox</td>\n",
       "      <td>165</td>\n",
       "      <td>180</td>\n",
       "      <td>5 million</td>\n",
       "    </tr>\n",
       "    <tr>\n",
       "      <th>1</th>\n",
       "      <td>Plague of Justinian</td>\n",
       "      <td>Rats and fleas</td>\n",
       "      <td>541</td>\n",
       "      <td>542</td>\n",
       "      <td>30-50 million</td>\n",
       "    </tr>\n",
       "    <tr>\n",
       "      <th>2</th>\n",
       "      <td>Black Death</td>\n",
       "      <td>Rats and fleas</td>\n",
       "      <td>1347</td>\n",
       "      <td>1352</td>\n",
       "      <td>75-200 million</td>\n",
       "    </tr>\n",
       "    <tr>\n",
       "      <th>3</th>\n",
       "      <td>New World smallpox</td>\n",
       "      <td>Variola virus</td>\n",
       "      <td>1520</td>\n",
       "      <td>unknown</td>\n",
       "      <td>25-55 million</td>\n",
       "    </tr>\n",
       "    <tr>\n",
       "      <th>4</th>\n",
       "      <td>Great Plague of London</td>\n",
       "      <td>Rats and fleas</td>\n",
       "      <td>1665</td>\n",
       "      <td>None</td>\n",
       "      <td>75,000-100,000</td>\n",
       "    </tr>\n",
       "    <tr>\n",
       "      <th>5</th>\n",
       "      <td>The cholera pandemics</td>\n",
       "      <td>V. cholerae bacteria</td>\n",
       "      <td>1817</td>\n",
       "      <td>1923</td>\n",
       "      <td>1 million</td>\n",
       "    </tr>\n",
       "    <tr>\n",
       "      <th>6</th>\n",
       "      <td>Yellow fever</td>\n",
       "      <td>Mosquitoes</td>\n",
       "      <td>1800</td>\n",
       "      <td>s</td>\n",
       "      <td>150,000</td>\n",
       "    </tr>\n",
       "    <tr>\n",
       "      <th>7</th>\n",
       "      <td>The 1918 flu</td>\n",
       "      <td>H1N1</td>\n",
       "      <td>1918</td>\n",
       "      <td>1920</td>\n",
       "      <td>50 million</td>\n",
       "    </tr>\n",
       "    <tr>\n",
       "      <th>8</th>\n",
       "      <td>Asian flu</td>\n",
       "      <td>H2N2</td>\n",
       "      <td>1957</td>\n",
       "      <td>1958</td>\n",
       "      <td>1 million</td>\n",
       "    </tr>\n",
       "    <tr>\n",
       "      <th>9</th>\n",
       "      <td>Swine flu</td>\n",
       "      <td>H1N1</td>\n",
       "      <td>2009</td>\n",
       "      <td>None</td>\n",
       "      <td>200,000</td>\n",
       "    </tr>\n",
       "  </tbody>\n",
       "</table>\n",
       "</div>"
      ],
      "text/plain": [
       "            Pandemic Name                 Cause  From       To  \\\n",
       "0         Antonine Plague  Measles and smallpox   165      180   \n",
       "1     Plague of Justinian        Rats and fleas   541      542   \n",
       "2             Black Death        Rats and fleas  1347     1352   \n",
       "3      New World smallpox         Variola virus  1520  unknown   \n",
       "4  Great Plague of London        Rats and fleas  1665     None   \n",
       "5   The cholera pandemics  V. cholerae bacteria  1817     1923   \n",
       "6            Yellow fever            Mosquitoes  1800        s   \n",
       "7            The 1918 flu                  H1N1  1918     1920   \n",
       "8               Asian flu                  H2N2  1957     1958   \n",
       "9               Swine flu                  H1N1  2009     None   \n",
       "\n",
       "       Death Count  \n",
       "0       5 million   \n",
       "1   30-50 million   \n",
       "2  75-200 million   \n",
       "3   25-55 million   \n",
       "4  75,000-100,000   \n",
       "5       1 million   \n",
       "6         150,000   \n",
       "7      50 million   \n",
       "8       1 million   \n",
       "9         200,000   "
      ]
     },
     "execution_count": 16,
     "metadata": {},
     "output_type": "execute_result"
    }
   ],
   "source": [
    "pandemic_df"
   ]
  },
  {
   "cell_type": "code",
   "execution_count": 17,
   "metadata": {},
   "outputs": [],
   "source": [
    "#Cleaning \"Death Count\" Column for data manipulation\n",
    "pandemic_df[\"Death Count\"]= pandemic_df[\"Death Count\"].str.replace('million','000000')\n",
    "#Keeping the minimum values\n",
    "pandemic_df[\"Death Count\"]= pandemic_df[\"Death Count\"].str.split(\"-\", expand = True)\n",
    "#Appending the 0s to index 1-3\n",
    "pandemic_df[\"Death Count\"][1:4]=pandemic_df[\"Death Count\"][1:4]+'000000'\n",
    "#Removing commas and spaces\n",
    "pandemic_df[\"Death Count\"]= pandemic_df[\"Death Count\"].str.replace(\",\",\"\")\n",
    "pandemic_df[\"Death Count\"]= pandemic_df[\"Death Count\"].str.replace(\" \",\"\").astype(float)"
   ]
  },
  {
   "cell_type": "code",
   "execution_count": 18,
   "metadata": {},
   "outputs": [],
   "source": [
    "#Replace text data to empty from \"To\" column\n",
    "pandemic_df[\"To\"]= pandemic_df[\"To\"].str.replace(r'[a-zA-Z]+',\"\",regex=True)\n",
    "pandemic_df[\"To\"].fillna(value=\"\", inplace=True)"
   ]
  },
  {
   "cell_type": "code",
   "execution_count": 19,
   "metadata": {},
   "outputs": [
    {
     "data": {
      "text/html": [
       "<div>\n",
       "<style scoped>\n",
       "    .dataframe tbody tr th:only-of-type {\n",
       "        vertical-align: middle;\n",
       "    }\n",
       "\n",
       "    .dataframe tbody tr th {\n",
       "        vertical-align: top;\n",
       "    }\n",
       "\n",
       "    .dataframe thead th {\n",
       "        text-align: right;\n",
       "    }\n",
       "</style>\n",
       "<table border=\"1\" class=\"dataframe\">\n",
       "  <thead>\n",
       "    <tr style=\"text-align: right;\">\n",
       "      <th></th>\n",
       "      <th>Pandemic Name</th>\n",
       "      <th>Cause</th>\n",
       "      <th>From</th>\n",
       "      <th>To</th>\n",
       "      <th>Death Count</th>\n",
       "    </tr>\n",
       "  </thead>\n",
       "  <tbody>\n",
       "    <tr>\n",
       "      <th>0</th>\n",
       "      <td>Antonine Plague</td>\n",
       "      <td>Measles and smallpox</td>\n",
       "      <td>165</td>\n",
       "      <td>180</td>\n",
       "      <td>5000000.0</td>\n",
       "    </tr>\n",
       "    <tr>\n",
       "      <th>1</th>\n",
       "      <td>Plague of Justinian</td>\n",
       "      <td>Rats and fleas</td>\n",
       "      <td>541</td>\n",
       "      <td>542</td>\n",
       "      <td>30000000.0</td>\n",
       "    </tr>\n",
       "    <tr>\n",
       "      <th>2</th>\n",
       "      <td>Black Death</td>\n",
       "      <td>Rats and fleas</td>\n",
       "      <td>1347</td>\n",
       "      <td>1352</td>\n",
       "      <td>75000000.0</td>\n",
       "    </tr>\n",
       "    <tr>\n",
       "      <th>3</th>\n",
       "      <td>New World smallpox</td>\n",
       "      <td>Variola virus</td>\n",
       "      <td>1520</td>\n",
       "      <td></td>\n",
       "      <td>25000000.0</td>\n",
       "    </tr>\n",
       "    <tr>\n",
       "      <th>4</th>\n",
       "      <td>Great Plague of London</td>\n",
       "      <td>Rats and fleas</td>\n",
       "      <td>1665</td>\n",
       "      <td></td>\n",
       "      <td>75000.0</td>\n",
       "    </tr>\n",
       "    <tr>\n",
       "      <th>5</th>\n",
       "      <td>The cholera pandemics</td>\n",
       "      <td>V. cholerae bacteria</td>\n",
       "      <td>1817</td>\n",
       "      <td>1923</td>\n",
       "      <td>1000000.0</td>\n",
       "    </tr>\n",
       "    <tr>\n",
       "      <th>6</th>\n",
       "      <td>Yellow fever</td>\n",
       "      <td>Mosquitoes</td>\n",
       "      <td>1800</td>\n",
       "      <td></td>\n",
       "      <td>150000.0</td>\n",
       "    </tr>\n",
       "    <tr>\n",
       "      <th>7</th>\n",
       "      <td>The 1918 flu</td>\n",
       "      <td>H1N1</td>\n",
       "      <td>1918</td>\n",
       "      <td>1920</td>\n",
       "      <td>50000000.0</td>\n",
       "    </tr>\n",
       "    <tr>\n",
       "      <th>8</th>\n",
       "      <td>Asian flu</td>\n",
       "      <td>H2N2</td>\n",
       "      <td>1957</td>\n",
       "      <td>1958</td>\n",
       "      <td>1000000.0</td>\n",
       "    </tr>\n",
       "    <tr>\n",
       "      <th>9</th>\n",
       "      <td>Swine flu</td>\n",
       "      <td>H1N1</td>\n",
       "      <td>2009</td>\n",
       "      <td></td>\n",
       "      <td>200000.0</td>\n",
       "    </tr>\n",
       "  </tbody>\n",
       "</table>\n",
       "</div>"
      ],
      "text/plain": [
       "            Pandemic Name                 Cause  From    To  Death Count\n",
       "0         Antonine Plague  Measles and smallpox   165   180    5000000.0\n",
       "1     Plague of Justinian        Rats and fleas   541   542   30000000.0\n",
       "2             Black Death        Rats and fleas  1347  1352   75000000.0\n",
       "3      New World smallpox         Variola virus  1520         25000000.0\n",
       "4  Great Plague of London        Rats and fleas  1665            75000.0\n",
       "5   The cholera pandemics  V. cholerae bacteria  1817  1923    1000000.0\n",
       "6            Yellow fever            Mosquitoes  1800           150000.0\n",
       "7            The 1918 flu                  H1N1  1918  1920   50000000.0\n",
       "8               Asian flu                  H2N2  1957  1958    1000000.0\n",
       "9               Swine flu                  H1N1  2009           200000.0"
      ]
     },
     "execution_count": 19,
     "metadata": {},
     "output_type": "execute_result"
    }
   ],
   "source": [
    "pandemic_df"
   ]
  },
  {
   "cell_type": "markdown",
   "metadata": {},
   "source": [
    "### Wikipedia"
   ]
  },
  {
   "cell_type": "markdown",
   "metadata": {},
   "source": [
    "https://en.wikipedia.org/wiki/List_of_epidemics\""
   ]
  },
  {
   "cell_type": "code",
   "execution_count": 22,
   "metadata": {},
   "outputs": [],
   "source": [
    "wiki_page = requests.get(\"https://en.wikipedia.org/wiki/List_of_epidemics\")"
   ]
  },
  {
   "cell_type": "code",
   "execution_count": 23,
   "metadata": {},
   "outputs": [
    {
     "data": {
      "text/plain": [
       "200"
      ]
     },
     "execution_count": 23,
     "metadata": {},
     "output_type": "execute_result"
    }
   ],
   "source": [
    "wiki_page.status_code"
   ]
  },
  {
   "cell_type": "code",
   "execution_count": 24,
   "metadata": {},
   "outputs": [],
   "source": [
    "wiki_soup = bs(wiki_page.content, 'html.parser')"
   ]
  },
  {
   "cell_type": "code",
   "execution_count": 25,
   "metadata": {},
   "outputs": [
    {
     "data": {
      "text/plain": [
       "[bs4.element.NavigableString,\n",
       " bs4.element.Doctype,\n",
       " bs4.element.NavigableString,\n",
       " bs4.element.Tag,\n",
       " bs4.element.NavigableString]"
      ]
     },
     "execution_count": 25,
     "metadata": {},
     "output_type": "execute_result"
    }
   ],
   "source": [
    "[type(item) for item in list(wiki_soup.children)]"
   ]
  },
  {
   "cell_type": "code",
   "execution_count": 54,
   "metadata": {},
   "outputs": [],
   "source": [
    "html = list(wiki_soup.children)[3]"
   ]
  },
  {
   "cell_type": "code",
   "execution_count": 32,
   "metadata": {},
   "outputs": [
    {
     "data": {
      "text/plain": [
       "['Event\\n', 'Date\\n', 'Location\\n', 'Disease\\n', 'Death toll (estimate)\\n']"
      ]
     },
     "execution_count": 32,
     "metadata": {},
     "output_type": "execute_result"
    }
   ],
   "source": [
    "[item.get_text() for item in html.find_all('th')][0:5]"
   ]
  },
  {
   "cell_type": "code",
   "execution_count": 137,
   "metadata": {},
   "outputs": [],
   "source": [
    "wiki_pandemicname_list=[]\n",
    "#Extracting nth element from td tags\n",
    "wiki_pandemicname_list=[item.get_text() for item in html.find_all('td')][0::6]\n",
    "#Striping \\n\n",
    "wiki_pandemicname_list=[item.strip() for item in wiki_pandemicname_list if str(item)][:-8]"
   ]
  },
  {
   "cell_type": "code",
   "execution_count": 138,
   "metadata": {},
   "outputs": [
    {
     "data": {
      "text/plain": [
       "244"
      ]
     },
     "execution_count": 138,
     "metadata": {},
     "output_type": "execute_result"
    }
   ],
   "source": [
    "len(wiki_pandemicname_list)"
   ]
  },
  {
   "cell_type": "code",
   "execution_count": 635,
   "metadata": {},
   "outputs": [
    {
     "data": {
      "text/plain": [
       "['Influenza epidemic',\n",
       " 'Plague of Athens',\n",
       " '412 BC epidemic',\n",
       " 'Antonine Plague',\n",
       " 'Plague of Cyprian',\n",
       " 'Plague of Justinian',\n",
       " 'Roman Plague of 590',\n",
       " 'Plague of Sheroe',\n",
       " 'Plague of 664',\n",
       " 'Plague of 698–701',\n",
       " '735–737 Japanese smallpox epidemic',\n",
       " 'Plague of 746–747',\n",
       " 'Black Death (start of the Second plague pandemic)',\n",
       " 'Sweating sickness (multiple outbreaks)',\n",
       " '1489 Spain typhus epidemic',\n",
       " '1510 influenza pandemic',\n",
       " '1520 Mexico smallpox epidemic',\n",
       " 'Cocoliztli Epidemic of 1545–1548',\n",
       " '1561 Chile smallpox epidemic',\n",
       " '1563 London plague',\n",
       " 'Cocoliztli epidemic of 1576',\n",
       " '1582 Tenerife plague epidemic',\n",
       " '1592–1596 Seneca nation measles epidemic',\n",
       " '1592–93 Malta plague epidemic',\n",
       " '1592–93 London plague',\n",
       " '1596-1602 Spain plague epidemic',\n",
       " '1600–1650 South America malaria epidemic',\n",
       " '1603 London plague epidemic',\n",
       " '1609 Egyptian plague epidemic',\n",
       " '1616 New England infections epidemic',\n",
       " '1629–1631 Italian plague',\n",
       " '1632–1635 Augsburg plague epidemic',\n",
       " 'Massachusetts smallpox epidemic',\n",
       " '1634–1640 Wyandot people epidemic of infections',\n",
       " '1637 London plague epidemic',\n",
       " '1641–1644 China plague epidemic',\n",
       " 'Great Plague of Seville',\n",
       " '1648 Central America yellow fever epidemic',\n",
       " 'Naples Plague',\n",
       " '1663–1664 Amsterdam plague epidemic',\n",
       " 'Great Plague of London',\n",
       " '1668 France plague',\n",
       " '1675–76 Malta plague epidemic',\n",
       " '1676–1685 Spain plague',\n",
       " '1677–1678 Boston smallpox epidemic',\n",
       " 'Great Plague of Vienna',\n",
       " '1681 Prague plague epidemic',\n",
       " '1687 South Africa Influenza outbreak',\n",
       " '1693 Boston yellow fever epidemic',\n",
       " '1699 Charleston and Philadelphia yellow fever epidemic',\n",
       " '1702 New York City yellow fever epidemic',\n",
       " '1702–1703 St. Lawrence Valley smallpox epidemic',\n",
       " '1707–1709 Iceland smallpox epidemic',\n",
       " 'Great Northern War plague outbreak',\n",
       " '1713–1715 North America measles epidemic',\n",
       " 'Great Plague of Marseille',\n",
       " '1721 Boston smallpox outbreak',\n",
       " '1730 Cádiz yellow fever epidemic',\n",
       " '1732-1733 Thirteen Colonies influenza epidemic',\n",
       " '1733 New France smallpox epidemic',\n",
       " '1735–1741 Diphtheria epidemic',\n",
       " 'Great Plague of 1738',\n",
       " '1738–1739 North Carolina smallpox epidemic',\n",
       " '1739–1740 Thirteen Colonies measles epidemic',\n",
       " '1741 Cartagena yellow fever epidemic',\n",
       " '1743 Sicily plague epidemic',\n",
       " '1747 Thirteen Colonies measles outbreak',\n",
       " '1759 \\tNorth America measles outbreak',\n",
       " '1760 Charleston smallpox epidemic',\n",
       " '1761 North America and West Indies influenza epidemic',\n",
       " '1762 Havana yellow fever epidemic',\n",
       " '1763 Pittsburgh area smallpox outbreak',\n",
       " 'Russian plague of 1770–1772',\n",
       " '1772 North America measles epidemic',\n",
       " '1772–1773 Persian Plague',\n",
       " '1775–1776 England influenza outbreak',\n",
       " '1775–1782 North American smallpox epidemic',\n",
       " '1778 Spain dengue fever outbreak',\n",
       " '1788 Pueblo Indians smallpox epidemic',\n",
       " '1788 United States measles epidemic',\n",
       " '1789–1790 New South Wales smallpox epidemic',\n",
       " '1793 United States influenza and typhus epidemic',\n",
       " '1793 Philadelphia yellow fever epidemic',\n",
       " '1800–1803 Spain yellow fever epidemic',\n",
       " '1801 Ottoman Empire and Egypt bubonic plague epidemic',\n",
       " '1802–1803 Saint-Domingue yellow fever epidemic',\n",
       " '1812 Egypt bubonic plague epidemic',\n",
       " '1812 Russia Typhus epidemic',\n",
       " '1812–19 Ottoman plague epidemic',\n",
       " '1813–14 Malta plague epidemic',\n",
       " \"Caragea's plague\",\n",
       " '1817–1819 Ireland typhus epidemic',\n",
       " 'First cholera pandemic',\n",
       " '1820 Savannah yellow fever epidemic',\n",
       " '1821 Barcelona yellow fever epidemic',\n",
       " 'Second cholera pandemic',\n",
       " '1828–1829 New South Wales smallpox epidemic',\n",
       " 'Groningen epidemic',\n",
       " '1829–1833 Pacific Northwest malaria epidemic',\n",
       " '1829–1835 Iran plague outbreak',\n",
       " '1831–1834 Plains Indians smallpox epidemic',\n",
       " '1834–1836 Egypt plague epidemic',\n",
       " '1837 Great Plains smallpox epidemic',\n",
       " '1840 South Africa smallpox epidemic',\n",
       " '1841 Southern United States yellow fever epidemic',\n",
       " '1847 North American typhus epidemic',\n",
       " '1847 Southern United States yellow fever epidemic',\n",
       " '1847–1848 influenza epidemic',\n",
       " '1848–1849 Hawaii epidemic of infections',\n",
       " '1850–1851 North America influenza epidemic',\n",
       " '1853 New Orleans yellow fever epidemic',\n",
       " 'Third cholera pandemic',\n",
       " '1853 Ottoman Empire plague epidemic',\n",
       " '1853 Copenhagen cholera outbreak',\n",
       " '1854 Broad Street cholera outbreak',\n",
       " '1855 Norfolk yellow fever epidemic',\n",
       " 'Third plague pandemic',\n",
       " '1857 Lisbon yellow fever epidemic',\n",
       " '1857 Victoria\\tsmallpox epidemic',\n",
       " '1857–1859 Europe and the Americas influenza epidemic',\n",
       " '1862–1863 British Columbia Smallpox epidemic',\n",
       " '1861–1865 United States typhoid fever epidemic',\n",
       " 'Fourth cholera pandemic',\n",
       " '1867 Sydney measles epidemic',\n",
       " '1871 Buenos Aires yellow fever epidemic',\n",
       " '1870–1875 Europe smallpox epidemic',\n",
       " '1875 Fiji measles outbreak',\n",
       " '1875–1876 Australia scarlet fever epidemic',\n",
       " '1876 Ottoman Empire plague epidemic',\n",
       " '1878 New Orleans yellow fever epidemic',\n",
       " '1878 Mississippi Valley yellow fever epidemic',\n",
       " 'Fifth cholera pandemic',\n",
       " '1885 Montreal smallpox epidemic',\n",
       " '1889–1890 flu pandemic',\n",
       " 'Bombay plague epidemic',\n",
       " '1896–1906 Congo Basin African trypanosomiasis epidemic',\n",
       " '1899 Porto plague outbreak',\n",
       " 'Sixth cholera pandemic',\n",
       " 'San Francisco plague of 1900–1904',\n",
       " '1900–1920 Uganda African trypanosomiasis epidemic',\n",
       " '1903 India plague epidemic',\n",
       " '1903 Fremantle plague epidemic',\n",
       " 'Manchurian plague',\n",
       " '1910 China plague',\n",
       " '1915 Encephalitis lethargica pandemic',\n",
       " '1916 United States polio epidemic',\n",
       " \"1918 influenza pandemic ('Spanish flu')\",\n",
       " '1918–1922 Russia typhus epidemic',\n",
       " '1924 Los Angeles pneumonic plague outbreak',\n",
       " '1924–1925 Minnesota smallpox epidemic',\n",
       " '1927 Montreal typhoid fever epidemic',\n",
       " 'Croydon typhoid outbreak of 1937',\n",
       " '1940 Sudan yellow fever epidemic',\n",
       " '1942–1944 Egypt malaria epidemic',\n",
       " '1946 China plague epidemic',\n",
       " '1946 Egypt relapsing fever epidemic',\n",
       " '1947 Egypt cholera epidemic',\n",
       " '1948-1952 United States polio epidemic',\n",
       " '1957–1958 influenza pandemic',\n",
       " '1960–1962 Ethiopia yellow fever epidemic',\n",
       " 'Seventh cholera pandemic',\n",
       " '1877–1977 Worldwide smallpox epidemic',\n",
       " 'Hong Kong flu',\n",
       " '1971 Staphorst polio epidemic',\n",
       " '1972 Yugoslav smallpox outbreak',\n",
       " 'London flu',\n",
       " '1973 Italy Cholera El Tor epidemic',\n",
       " '1974 smallpox epidemic of India',\n",
       " 'HIV/AIDS pandemic',\n",
       " '1984 Western Sahara plague',\n",
       " '1986 Oju yellow fever epidemic',\n",
       " '1987 Mali yellow fever epidemic',\n",
       " '1991 Bangladesh cholera epidemic',\n",
       " '1994 plague in India',\n",
       " 'United Kingdom BSE outbreak',\n",
       " '1996 West Africa meningitus epidemic',\n",
       " '1998–99 Malaysia Nipah virus outbreak',\n",
       " '2000 Central America dengue epidemic',\n",
       " '2001 Nigeria cholera epidemic',\n",
       " '2001 South Africa cholera epidemic',\n",
       " '2002–04 SARS outbreak',\n",
       " '2003 Algeria plague outbreak',\n",
       " '2004 Afghanistan leishmaniasis epidemic',\n",
       " '2004 Indonesia dengue epidemic',\n",
       " '2004 Senegal cholera outbreak',\n",
       " '2004 Sudan ebola outbreak',\n",
       " '2005 dengue outbreak in Singapore',\n",
       " '2006 Luanda cholera epidemic',\n",
       " '2006 Ituri Province plague epidemic',\n",
       " '2006 India malaria outbreak',\n",
       " '2006 dengue outbreak in India',\n",
       " 'Chikungunya outbreaks',\n",
       " '2006 dengue outbreak in Pakistan',\n",
       " '2006 Philippines dengue epidemic',\n",
       " '2006–07 East Africa Rift Valley fever outbreak',\n",
       " 'Mweka ebola epidemic',\n",
       " '2007 Ethiopia cholera epidemic',\n",
       " '2007 Iraq cholera outbreak',\n",
       " '2007 Nigeria polio outbreak',\n",
       " '2007 Puerto Rico, Dominican Republic, and Mexico dengue fever epidemic',\n",
       " '2007 Uganda ebola outbreak',\n",
       " '2007 Vietnam cholera outbreak',\n",
       " '2008 Brazil dengue epidemic',\n",
       " '2008 Cambodia dengue epidemic',\n",
       " '2008 Chad cholera epidemic',\n",
       " '2008–2017 China hand, foot, and mouth disease epidemic',\n",
       " '2008 India cholera epidemic',\n",
       " '2008 Madagascar plague outbreak',\n",
       " '2008 Philippines dengue epidemic',\n",
       " '2008–09 Zimbabwean cholera outbreak',\n",
       " '2009 Bolivian dengue fever epidemic',\n",
       " '2009 Gujarat hepatitis outbreak',\n",
       " 'Queensland 2009 dengue outbreak',\n",
       " 'Mumps outbreaks in the 2000s',\n",
       " '2009–10 West African meningitis outbreak',\n",
       " '2009 swine flu pandemic',\n",
       " '2010s Haiti cholera outbreak',\n",
       " '2010–2014 Democratic Republic of the Congo measles outbreak',\n",
       " '2011 Vietnam hand, foot and mouth disease epidemic',\n",
       " '2011 dengue outbreak in Pakistan',\n",
       " '2012 yellow fever outbreak in Darfur, Sudan',\n",
       " '2012 Middle East respiratory syndrome coronavirus outbreak',\n",
       " '2013 dengue outbreak in Singapore',\n",
       " '2013 Vietnam Measles outbreak',\n",
       " 'Western African Ebola virus epidemic',\n",
       " '2013–14 chikungunya outbreak',\n",
       " '2014 Madagascar plague outbreak',\n",
       " '2014 Odisha jaundice outbreak',\n",
       " '2015 Indian swine flu outbreak',\n",
       " '2015–16 Zika virus epidemic',\n",
       " '2016 Angola and DR Congo yellow fever outbreak',\n",
       " '2016–20 Yemen cholera outbreak',\n",
       " '2017 dengue outbreak in Peshawar',\n",
       " '2017 Gorakhpur Japanese encephalitis outbreak',\n",
       " '2017–18 United States flu season',\n",
       " '2018 Nipah virus outbreak in Kerala',\n",
       " '2018–20 Kivu Ebola epidemic',\n",
       " '2019 measles outbreak in the Democratic Republic of the Congo',\n",
       " '2019–2020 New Zealand measles outbreak',\n",
       " '2019 Philippines measles outbreak',\n",
       " '2019 Kuala Koh measles outbreak',\n",
       " '2019 Samoa measles outbreak',\n",
       " '2019–20 dengue fever epidemic',\n",
       " 'COVID-19 pandemic']"
      ]
     },
     "execution_count": 635,
     "metadata": {},
     "output_type": "execute_result"
    }
   ],
   "source": [
    "wiki_pandemicname_list"
   ]
  },
  {
   "cell_type": "code",
   "execution_count": 139,
   "metadata": {},
   "outputs": [],
   "source": [
    "#Extracting To Year\n",
    "wiki_To_list=[]\n",
    "wiki_To_regex=re.compile('([0-9,]+)')\n",
    "for names in html.find_all('td')[1::6]:\n",
    "    if (wiki_To_regex.search(names.text)!= None):\n",
    "        wiki_To_list.append(wiki_To_regex.search(names.text).group(1))"
   ]
  },
  {
   "cell_type": "code",
   "execution_count": 124,
   "metadata": {},
   "outputs": [],
   "source": [
    "#Extracting nth element from td tags\n",
    "wiki_Death_list=[item.get_text() for item in html.find_all('td')][4::6]\n",
    "#Striping \\n\n",
    "wiki_Death_list=[item.strip() for item in wiki_Death_list if str(item)][:-8]"
   ]
  },
  {
   "cell_type": "code",
   "execution_count": 126,
   "metadata": {},
   "outputs": [
    {
     "data": {
      "text/plain": [
       "244"
      ]
     },
     "execution_count": 126,
     "metadata": {},
     "output_type": "execute_result"
    }
   ],
   "source": [
    "len(wiki_Death_list)"
   ]
  },
  {
   "cell_type": "code",
   "execution_count": 395,
   "metadata": {},
   "outputs": [],
   "source": [
    "wiki_dict_data={'Pandemic Name':wiki_pandemicname_list,'Year':wiki_To_list[:-1],\n",
    "              'Death Count':wiki_Death_list}"
   ]
  },
  {
   "cell_type": "code",
   "execution_count": 396,
   "metadata": {},
   "outputs": [],
   "source": [
    "wiki_pandemic_df=pd.DataFrame(wiki_dict_data)"
   ]
  },
  {
   "cell_type": "code",
   "execution_count": 398,
   "metadata": {},
   "outputs": [
    {
     "data": {
      "text/html": [
       "<div>\n",
       "<style scoped>\n",
       "    .dataframe tbody tr th:only-of-type {\n",
       "        vertical-align: middle;\n",
       "    }\n",
       "\n",
       "    .dataframe tbody tr th {\n",
       "        vertical-align: top;\n",
       "    }\n",
       "\n",
       "    .dataframe thead th {\n",
       "        text-align: right;\n",
       "    }\n",
       "</style>\n",
       "<table border=\"1\" class=\"dataframe\">\n",
       "  <thead>\n",
       "    <tr style=\"text-align: right;\">\n",
       "      <th></th>\n",
       "      <th>Pandemic Name</th>\n",
       "      <th>Year</th>\n",
       "      <th>Death Count</th>\n",
       "    </tr>\n",
       "  </thead>\n",
       "  <tbody>\n",
       "    <tr>\n",
       "      <th>0</th>\n",
       "      <td>Influenza epidemic</td>\n",
       "      <td>1200</td>\n",
       "      <td>Unknown</td>\n",
       "    </tr>\n",
       "    <tr>\n",
       "      <th>1</th>\n",
       "      <td>Plague of Athens</td>\n",
       "      <td>429</td>\n",
       "      <td>75,000–100,000</td>\n",
       "    </tr>\n",
       "    <tr>\n",
       "      <th>2</th>\n",
       "      <td>412 BC epidemic</td>\n",
       "      <td>412</td>\n",
       "      <td>Unknown</td>\n",
       "    </tr>\n",
       "    <tr>\n",
       "      <th>3</th>\n",
       "      <td>Antonine Plague</td>\n",
       "      <td>165</td>\n",
       "      <td>5–10 million</td>\n",
       "    </tr>\n",
       "    <tr>\n",
       "      <th>4</th>\n",
       "      <td>Plague of Cyprian</td>\n",
       "      <td>250</td>\n",
       "      <td>1 million+</td>\n",
       "    </tr>\n",
       "  </tbody>\n",
       "</table>\n",
       "</div>"
      ],
      "text/plain": [
       "        Pandemic Name  Year     Death Count\n",
       "0  Influenza epidemic  1200         Unknown\n",
       "1    Plague of Athens   429  75,000–100,000\n",
       "2     412 BC epidemic   412         Unknown\n",
       "3     Antonine Plague   165    5–10 million\n",
       "4   Plague of Cyprian   250      1 million+"
      ]
     },
     "execution_count": 398,
     "metadata": {},
     "output_type": "execute_result"
    }
   ],
   "source": [
    "wiki_pandemic_df.head()"
   ]
  },
  {
   "cell_type": "markdown",
   "metadata": {},
   "source": [
    "### Data Cleaning"
   ]
  },
  {
   "cell_type": "code",
   "execution_count": 399,
   "metadata": {},
   "outputs": [],
   "source": [
    "#Cleaning \"Death Count\" Column for data manipulation\n",
    "#Eliminating lower death count by Replacing – with upper death number only\n",
    "wiki_pandemic_df[\"Death Count\"]= wiki_pandemic_df[\"Death Count\"].str.replace(r'[0-9]+–',\"\",regex=True)\n",
    "wiki_pandemic_df[\"Death Count\"]= wiki_pandemic_df[\"Death Count\"].str.replace(r'[0-9]+-',\"\",regex=True)"
   ]
  },
  {
   "cell_type": "code",
   "execution_count": 401,
   "metadata": {},
   "outputs": [],
   "source": [
    "#replacing millions with 0s\n",
    "wiki_pandemic_df[\"Death Count\"]= wiki_pandemic_df[\"Death Count\"].str.replace('million','000000')"
   ]
  },
  {
   "cell_type": "code",
   "execution_count": 403,
   "metadata": {},
   "outputs": [],
   "source": [
    "#Removing commas and +\n",
    "wiki_pandemic_df[\"Death Count\"]= wiki_pandemic_df[\"Death Count\"].str.replace(\",\",\"\")\n",
    "wiki_pandemic_df[\"Death Count\"]= wiki_pandemic_df[\"Death Count\"].str.replace(\"+\",\"\")"
   ]
  },
  {
   "cell_type": "code",
   "execution_count": 409,
   "metadata": {},
   "outputs": [],
   "source": [
    "#Replace data after numbers with \"\" \n",
    "# Exmaple 498 (377 in Angola 121 in Congo) keep 486 only\n",
    "wiki_pandemic_df[\"Death Count\"]= wiki_pandemic_df[\"Death Count\"].str.replace(\"\\s+.+\",\"\")\n",
    "#Remove spaces\n",
    "wiki_pandemic_df[\"Death Count\"]= wiki_pandemic_df[\"Death Count\"].str.replace(\" \",\"\")"
   ]
  },
  {
   "cell_type": "code",
   "execution_count": 411,
   "metadata": {},
   "outputs": [],
   "source": [
    "#Filtering out the unknown\n",
    "wiki_pandemic_df=wiki_pandemic_df[wiki_pandemic_df['Death Count']!='Unknown'].reset_index(drop=True)"
   ]
  },
  {
   "cell_type": "code",
   "execution_count": 414,
   "metadata": {},
   "outputs": [],
   "source": [
    "# Keeping only the numbers from and rejecting text\n",
    "wiki_pandemic_df=wiki_pandemic_df[wiki_pandemic_df['Death Count'].str.match(r'([0-9]+)')==True]"
   ]
  },
  {
   "cell_type": "code",
   "execution_count": 415,
   "metadata": {},
   "outputs": [
    {
     "name": "stdout",
     "output_type": "stream",
     "text": [
      "75100000\n",
      "10\n",
      "1\n",
      "100\n",
      "2\n",
      "200\n",
      "10000\n",
      "17000\n",
      "8\n",
      "15\n",
      "20100\n",
      "2.5\n",
      "59000\n",
      "3000\n",
      "19900\n",
      "600700000\n",
      "40000\n",
      "1\n",
      "280000\n",
      "13712\n",
      "1000\n",
      "1525000\n",
      "10400\n",
      "500000\n",
      "1250000\n",
      "24148\n",
      "100000\n",
      "40000\n",
      "11300\n",
      "1000\n",
      "76000\n",
      "83000\n",
      "3100\n",
      "520\n",
      "500\n",
      "1300\n",
      "18000\n",
      "164000\n",
      "100000\n",
      "844\n",
      "2200\n",
      "20000\n",
      "50000\n",
      "711700\n",
      "20000\n",
      "4050000\n",
      "940\n",
      "8000\n",
      "50000\n",
      "2\n",
      "11000\n",
      "5000\n",
      "60000\n",
      "2955000\n",
      "300000\n",
      "300000\n",
      "4500\n",
      "60000\n",
      "65000\n",
      "100000\n",
      "700\n",
      "520000\n",
      "100000\n",
      "19000\n",
      "2800\n",
      "150000\n",
      "17000\n",
      "3498\n",
      "20000\n",
      "3400\n",
      "10000\n",
      "7970\n",
      "1\n",
      "4737\n",
      "616\n",
      "3000\n",
      "12\n",
      "6000\n",
      "32000\n",
      "80000\n",
      "600000\n",
      "748\n",
      "1326200\n",
      "500000\n",
      "40000\n",
      "8000\n",
      "20000\n",
      "4046\n",
      "13000\n",
      "298600\n",
      "3164\n",
      "1\n",
      "20788\n",
      "500000\n",
      "132\n",
      "800000\n",
      "119\n",
      "200300000\n",
      "22\n",
      "4\n",
      "60000\n",
      "40000\n",
      "1.5\n",
      "7130\n",
      "100\n",
      "2.5\n",
      "30\n",
      "500\n",
      "538\n",
      "43\n",
      "1627\n",
      "10277\n",
      "4\n",
      "30000\n",
      "500\n",
      "4\n",
      "5\n",
      "35\n",
      "1027\n",
      "24\n",
      "15000\n",
      "32\n",
      "64\n",
      "5600\n",
      "145\n",
      "89432\n",
      "56\n",
      "178\n",
      "10000\n",
      "105\n",
      "40\n",
      "400\n",
      "139\n",
      "774\n",
      "1\n",
      "0\n",
      "658\n",
      "2\n",
      "7\n",
      "27\n",
      "1200\n",
      "61\n",
      "17\n",
      "50\n",
      "50\n",
      "1000\n",
      "394\n",
      "187\n",
      "684\n",
      "10\n",
      "183\n",
      "37\n",
      "2\n",
      "67\n",
      "407\n",
      "123\n",
      "3322\n",
      "115\n",
      "18\n",
      "172\n",
      "4293\n",
      "18\n",
      "49\n",
      "1\n",
      "1100\n",
      "151575400\n",
      "10075\n",
      "4500\n",
      "170\n",
      "350\n",
      "171\n",
      "862\n",
      "8\n",
      "142\n",
      "11323\n",
      "183\n",
      "292\n",
      "36\n",
      "2035\n",
      "53\n",
      "498\n",
      "3886\n",
      "69\n",
      "1317\n",
      "61000\n",
      "17\n",
      "2271\n",
      "6400\n",
      "2\n",
      "338\n",
      "15\n",
      "83\n",
      "3930\n",
      "381247\n"
     ]
    }
   ],
   "source": [
    "for i in wiki_pandemic_df['Death Count']:\n",
    "    print(i)"
   ]
  },
  {
   "cell_type": "code",
   "execution_count": 383,
   "metadata": {},
   "outputs": [],
   "source": [
    "#Convert to Float\n",
    "wiki_pandemic_df['Death Count']=wiki_pandemic_df['Death Count'].astype('float64')"
   ]
  },
  {
   "cell_type": "code",
   "execution_count": 569,
   "metadata": {},
   "outputs": [
    {
     "data": {
      "text/plain": [
       "count    1.940000e+02\n",
       "mean     5.395447e+06\n",
       "std      4.686891e+07\n",
       "min      0.000000e+00\n",
       "25%      6.750000e+01\n",
       "50%      1.308500e+03\n",
       "75%      2.000000e+04\n",
       "max      6.007000e+08\n",
       "Name: Death Count, dtype: float64"
      ]
     },
     "execution_count": 569,
     "metadata": {},
     "output_type": "execute_result"
    }
   ],
   "source": [
    "#Get Summary Statistics\n",
    "wiki_pandemic_df['Death Count'].describe()"
   ]
  },
  {
   "cell_type": "code",
   "execution_count": 574,
   "metadata": {},
   "outputs": [
    {
     "data": {
      "text/html": [
       "<div>\n",
       "<style scoped>\n",
       "    .dataframe tbody tr th:only-of-type {\n",
       "        vertical-align: middle;\n",
       "    }\n",
       "\n",
       "    .dataframe tbody tr th {\n",
       "        vertical-align: top;\n",
       "    }\n",
       "\n",
       "    .dataframe thead th {\n",
       "        text-align: right;\n",
       "    }\n",
       "</style>\n",
       "<table border=\"1\" class=\"dataframe\">\n",
       "  <thead>\n",
       "    <tr style=\"text-align: right;\">\n",
       "      <th></th>\n",
       "      <th>Pandemic Name</th>\n",
       "      <th>Year</th>\n",
       "      <th>Death Count</th>\n",
       "    </tr>\n",
       "  </thead>\n",
       "  <tbody>\n",
       "    <tr>\n",
       "      <th>15</th>\n",
       "      <td>1596-1602 Spain plague epidemic</td>\n",
       "      <td>1596</td>\n",
       "      <td>600700000.0</td>\n",
       "    </tr>\n",
       "  </tbody>\n",
       "</table>\n",
       "</div>"
      ],
      "text/plain": [
       "                      Pandemic Name  Year  Death Count\n",
       "15  1596-1602 Spain plague epidemic  1596  600700000.0"
      ]
     },
     "execution_count": 574,
     "metadata": {},
     "output_type": "execute_result"
    }
   ],
   "source": [
    "wiki_pandemic_df[wiki_pandemic_df['Death Count']==max(wiki_pandemic_df['Death Count'])]"
   ]
  },
  {
   "cell_type": "code",
   "execution_count": 572,
   "metadata": {},
   "outputs": [
    {
     "data": {
      "text/plain": [
       "1575.6189556901431"
      ]
     },
     "execution_count": 572,
     "metadata": {},
     "output_type": "execute_result"
    }
   ],
   "source": [
    "factor=max(wiki_pandemic_df['Death Count'])/381247\n",
    "factor"
   ]
  },
  {
   "cell_type": "code",
   "execution_count": 417,
   "metadata": {},
   "outputs": [
    {
     "data": {
      "text/html": [
       "<div>\n",
       "<style scoped>\n",
       "    .dataframe tbody tr th:only-of-type {\n",
       "        vertical-align: middle;\n",
       "    }\n",
       "\n",
       "    .dataframe tbody tr th {\n",
       "        vertical-align: top;\n",
       "    }\n",
       "\n",
       "    .dataframe thead th {\n",
       "        text-align: right;\n",
       "    }\n",
       "</style>\n",
       "<table border=\"1\" class=\"dataframe\">\n",
       "  <thead>\n",
       "    <tr style=\"text-align: right;\">\n",
       "      <th></th>\n",
       "      <th>Pandemic Name</th>\n",
       "      <th>Year</th>\n",
       "      <th>Death Count</th>\n",
       "    </tr>\n",
       "  </thead>\n",
       "  <tbody>\n",
       "    <tr>\n",
       "      <th>190</th>\n",
       "      <td>2019 Philippines measles outbreak</td>\n",
       "      <td>2019</td>\n",
       "      <td>338.0</td>\n",
       "    </tr>\n",
       "    <tr>\n",
       "      <th>191</th>\n",
       "      <td>2019 Kuala Koh measles outbreak</td>\n",
       "      <td>2019</td>\n",
       "      <td>15.0</td>\n",
       "    </tr>\n",
       "    <tr>\n",
       "      <th>192</th>\n",
       "      <td>2019 Samoa measles outbreak</td>\n",
       "      <td>2019</td>\n",
       "      <td>83.0</td>\n",
       "    </tr>\n",
       "    <tr>\n",
       "      <th>193</th>\n",
       "      <td>2019–20 dengue fever epidemic</td>\n",
       "      <td>2019</td>\n",
       "      <td>3930.0</td>\n",
       "    </tr>\n",
       "    <tr>\n",
       "      <th>194</th>\n",
       "      <td>COVID-19 pandemic</td>\n",
       "      <td>2019</td>\n",
       "      <td>381247.0</td>\n",
       "    </tr>\n",
       "  </tbody>\n",
       "</table>\n",
       "</div>"
      ],
      "text/plain": [
       "                         Pandemic Name  Year  Death Count\n",
       "190  2019 Philippines measles outbreak  2019        338.0\n",
       "191    2019 Kuala Koh measles outbreak  2019         15.0\n",
       "192        2019 Samoa measles outbreak  2019         83.0\n",
       "193      2019–20 dengue fever epidemic  2019       3930.0\n",
       "194                  COVID-19 pandemic  2019     381247.0"
      ]
     },
     "execution_count": 417,
     "metadata": {},
     "output_type": "execute_result"
    }
   ],
   "source": [
    "wiki_pandemic_df.tail()"
   ]
  },
  {
   "cell_type": "code",
   "execution_count": 636,
   "metadata": {},
   "outputs": [],
   "source": [
    "wiki_pandemic_df.to_excel(r'C:/Users/Owner/Downloads/College/Practice/Pandemics/pandemics.xlsx', sheet_name='wikipedia', index = False)"
   ]
  },
  {
   "cell_type": "markdown",
   "metadata": {},
   "source": [
    "## Plotting the Data Frame"
   ]
  },
  {
   "cell_type": "code",
   "execution_count": 520,
   "metadata": {},
   "outputs": [],
   "source": [
    "#Limiting the data according to choice\n",
    "df = wiki_pandemic_df[(wiki_pandemic_df['Death Count']>=100000) & (wiki_pandemic_df['Death Count']<7000000)]"
   ]
  },
  {
   "cell_type": "code",
   "execution_count": 521,
   "metadata": {},
   "outputs": [
    {
     "name": "stderr",
     "output_type": "stream",
     "text": [
      "C:\\Users\\Owner\\Anaconda3\\lib\\site-packages\\ipykernel_launcher.py:1: SettingWithCopyWarning:\n",
      "\n",
      "\n",
      "A value is trying to be set on a copy of a slice from a DataFrame.\n",
      "Try using .loc[row_indexer,col_indexer] = value instead\n",
      "\n",
      "See the caveats in the documentation: https://pandas.pydata.org/pandas-docs/stable/user_guide/indexing.html#returning-a-view-versus-a-copy\n",
      "\n"
     ]
    }
   ],
   "source": [
    "#Divide data by 1Million\n",
    "df['Death Count']=df['Death Count'].apply(lambda x: round(x/1000000,2))"
   ]
  },
  {
   "cell_type": "code",
   "execution_count": 567,
   "metadata": {},
   "outputs": [
    {
     "data": {
      "application/vnd.plotly.v1+json": {
       "config": {
        "plotlyServerURL": "https://plot.ly"
       },
       "data": [
        {
         "hoverlabel": {
          "namelength": 0
         },
         "hovertemplate": "Pandemic Name=%{text}<br>Year=%{x}<br>Death Count=%{marker.size}",
         "legendgroup": "1629–1631 Italian plague",
         "marker": {
          "color": "#636efa",
          "size": [
           0.28
          ],
          "sizemode": "area",
          "sizeref": 0.001125,
          "symbol": "circle"
         },
         "mode": "markers+text",
         "name": "1629–1631 Italian plague",
         "showlegend": true,
         "text": [
          "1629–1631 Italian plague"
         ],
         "textfont": {
          "size": 8
         },
         "textposition": "middle center",
         "type": "scatter",
         "x": [
          "1629"
         ],
         "xaxis": "x",
         "y": [
          0.28
         ],
         "yaxis": "y"
        },
        {
         "hoverlabel": {
          "namelength": 0
         },
         "hovertemplate": "Pandemic Name=%{text}<br>Year=%{x}<br>Death Count=%{marker.size}",
         "legendgroup": "1634–1640 Wyandot people epidemic of infections",
         "marker": {
          "color": "#EF553B",
          "size": [
           1.52
          ],
          "sizemode": "area",
          "sizeref": 0.001125,
          "symbol": "circle"
         },
         "mode": "markers+text",
         "name": "1634–1640 Wyandot people epidemic of infections",
         "showlegend": true,
         "text": [
          "1634–1640 Wyandot people epidemic of infections"
         ],
         "textfont": {
          "size": 8
         },
         "textposition": "middle center",
         "type": "scatter",
         "x": [
          "1634"
         ],
         "xaxis": "x",
         "y": [
          1.52
         ],
         "yaxis": "y"
        },
        {
         "hoverlabel": {
          "namelength": 0
         },
         "hovertemplate": "Pandemic Name=%{text}<br>Year=%{x}<br>Death Count=%{marker.size}",
         "legendgroup": "Great Plague of Seville",
         "marker": {
          "color": "#00cc96",
          "size": [
           0.5
          ],
          "sizemode": "area",
          "sizeref": 0.001125,
          "symbol": "circle"
         },
         "mode": "markers+text",
         "name": "Great Plague of Seville",
         "showlegend": true,
         "text": [
          "Great Plague of Seville"
         ],
         "textfont": {
          "size": 8
         },
         "textposition": "middle center",
         "type": "scatter",
         "x": [
          "1647"
         ],
         "xaxis": "x",
         "y": [
          0.5
         ],
         "yaxis": "y"
        },
        {
         "hoverlabel": {
          "namelength": 0
         },
         "hovertemplate": "Pandemic Name=%{text}<br>Year=%{x}<br>Death Count=%{marker.size}",
         "legendgroup": "Naples Plague",
         "marker": {
          "color": "#ab63fa",
          "size": [
           1.25
          ],
          "sizemode": "area",
          "sizeref": 0.001125,
          "symbol": "circle"
         },
         "mode": "markers+text",
         "name": "Naples Plague",
         "showlegend": true,
         "text": [
          "Naples Plague"
         ],
         "textfont": {
          "size": 8
         },
         "textposition": "middle center",
         "type": "scatter",
         "x": [
          "1656"
         ],
         "xaxis": "x",
         "y": [
          1.25
         ],
         "yaxis": "y"
        },
        {
         "hoverlabel": {
          "namelength": 0
         },
         "hovertemplate": "Pandemic Name=%{text}<br>Year=%{x}<br>Death Count=%{marker.size}",
         "legendgroup": "Great Plague of London",
         "marker": {
          "color": "#FFA15A",
          "size": [
           0.1
          ],
          "sizemode": "area",
          "sizeref": 0.001125,
          "symbol": "circle"
         },
         "mode": "markers+text",
         "name": "Great Plague of London",
         "showlegend": true,
         "text": [
          "Great Plague of London"
         ],
         "textfont": {
          "size": 8
         },
         "textposition": "middle center",
         "type": "scatter",
         "x": [
          "1665"
         ],
         "xaxis": "x",
         "y": [
          0.1
         ],
         "yaxis": "y"
        },
        {
         "hoverlabel": {
          "namelength": 0
         },
         "hovertemplate": "Pandemic Name=%{text}<br>Year=%{x}<br>Death Count=%{marker.size}",
         "legendgroup": "Great Northern War plague outbreak",
         "marker": {
          "color": "#19d3f3",
          "size": [
           0.16
          ],
          "sizemode": "area",
          "sizeref": 0.001125,
          "symbol": "circle"
         },
         "mode": "markers+text",
         "name": "Great Northern War plague outbreak",
         "showlegend": true,
         "text": [
          "Great Northern War plague outbreak"
         ],
         "textfont": {
          "size": 8
         },
         "textposition": "middle center",
         "type": "scatter",
         "x": [
          "1710"
         ],
         "xaxis": "x",
         "y": [
          0.16
         ],
         "yaxis": "y"
        },
        {
         "hoverlabel": {
          "namelength": 0
         },
         "hovertemplate": "Pandemic Name=%{text}<br>Year=%{x}<br>Death Count=%{marker.size}",
         "legendgroup": "Great Plague of Marseille",
         "marker": {
          "color": "#FF6692",
          "size": [
           0.1
          ],
          "sizemode": "area",
          "sizeref": 0.001125,
          "symbol": "circle"
         },
         "mode": "markers+text",
         "name": "Great Plague of Marseille",
         "showlegend": true,
         "text": [
          "Great Plague of Marseille"
         ],
         "textfont": {
          "size": 8
         },
         "textposition": "middle center",
         "type": "scatter",
         "x": [
          "1720"
         ],
         "xaxis": "x",
         "y": [
          0.1
         ],
         "yaxis": "y"
        },
        {
         "hoverlabel": {
          "namelength": 0
         },
         "hovertemplate": "Pandemic Name=%{text}<br>Year=%{x}<br>Death Count=%{marker.size}",
         "legendgroup": "1738–1739 North Carolina smallpox epidemic",
         "marker": {
          "color": "#B6E880",
          "size": [
           0.71
          ],
          "sizemode": "area",
          "sizeref": 0.001125,
          "symbol": "circle"
         },
         "mode": "markers+text",
         "name": "1738–1739 North Carolina smallpox epidemic",
         "showlegend": true,
         "text": [
          "1738–1739 North Carolina smallpox epidemic"
         ],
         "textfont": {
          "size": 8
         },
         "textposition": "middle center",
         "type": "scatter",
         "x": [
          "1738"
         ],
         "xaxis": "x",
         "y": [
          0.71
         ],
         "yaxis": "y"
        },
        {
         "hoverlabel": {
          "namelength": 0
         },
         "hovertemplate": "Pandemic Name=%{text}<br>Year=%{x}<br>Death Count=%{marker.size}",
         "legendgroup": "1743 Sicily plague epidemic",
         "marker": {
          "color": "#FF97FF",
          "size": [
           4.05
          ],
          "sizemode": "area",
          "sizeref": 0.001125,
          "symbol": "circle"
         },
         "mode": "markers+text",
         "name": "1743 Sicily plague epidemic",
         "showlegend": true,
         "text": [
          "1743 Sicily plague epidemic"
         ],
         "textfont": {
          "size": 8
         },
         "textposition": "middle center",
         "type": "scatter",
         "x": [
          "1743"
         ],
         "xaxis": "x",
         "y": [
          4.05
         ],
         "yaxis": "y"
        },
        {
         "hoverlabel": {
          "namelength": 0
         },
         "hovertemplate": "Pandemic Name=%{text}<br>Year=%{x}<br>Death Count=%{marker.size}",
         "legendgroup": "1802–1803 Saint-Domingue yellow fever epidemic",
         "marker": {
          "color": "#FECB52",
          "size": [
           2.96
          ],
          "sizemode": "area",
          "sizeref": 0.001125,
          "symbol": "circle"
         },
         "mode": "markers+text",
         "name": "1802–1803 Saint-Domingue yellow fever epidemic",
         "showlegend": true,
         "text": [
          "1802–1803 Saint-Domingue yellow fever epidemic"
         ],
         "textfont": {
          "size": 8
         },
         "textposition": "middle center",
         "type": "scatter",
         "x": [
          "1802"
         ],
         "xaxis": "x",
         "y": [
          2.96
         ],
         "yaxis": "y"
        },
        {
         "hoverlabel": {
          "namelength": 0
         },
         "hovertemplate": "Pandemic Name=%{text}<br>Year=%{x}<br>Death Count=%{marker.size}",
         "legendgroup": "1812 Russia Typhus epidemic",
         "marker": {
          "color": "#636efa",
          "size": [
           0.3
          ],
          "sizemode": "area",
          "sizeref": 0.001125,
          "symbol": "circle"
         },
         "mode": "markers+text",
         "name": "1812 Russia Typhus epidemic",
         "showlegend": true,
         "text": [
          "1812 Russia Typhus epidemic"
         ],
         "textfont": {
          "size": 8
         },
         "textposition": "middle center",
         "type": "scatter",
         "x": [
          "1812"
         ],
         "xaxis": "x",
         "y": [
          0.3
         ],
         "yaxis": "y"
        },
        {
         "hoverlabel": {
          "namelength": 0
         },
         "hovertemplate": "Pandemic Name=%{text}<br>Year=%{x}<br>Death Count=%{marker.size}",
         "legendgroup": "1812–19 Ottoman plague epidemic",
         "marker": {
          "color": "#EF553B",
          "size": [
           0.3
          ],
          "sizemode": "area",
          "sizeref": 0.001125,
          "symbol": "circle"
         },
         "mode": "markers+text",
         "name": "1812–19 Ottoman plague epidemic",
         "showlegend": true,
         "text": [
          "1812–19 Ottoman plague epidemic"
         ],
         "textfont": {
          "size": 8
         },
         "textposition": "middle center",
         "type": "scatter",
         "x": [
          "1812"
         ],
         "xaxis": "x",
         "y": [
          0.3
         ],
         "yaxis": "y"
        },
        {
         "hoverlabel": {
          "namelength": 0
         },
         "hovertemplate": "Pandemic Name=%{text}<br>Year=%{x}<br>Death Count=%{marker.size}",
         "legendgroup": "First cholera pandemic",
         "marker": {
          "color": "#00cc96",
          "size": [
           0.1
          ],
          "sizemode": "area",
          "sizeref": 0.001125,
          "symbol": "circle"
         },
         "mode": "markers+text",
         "name": "First cholera pandemic",
         "showlegend": true,
         "text": [
          "First cholera pandemic"
         ],
         "textfont": {
          "size": 8
         },
         "textposition": "middle center",
         "type": "scatter",
         "x": [
          "1817"
         ],
         "xaxis": "x",
         "y": [
          0.1
         ],
         "yaxis": "y"
        },
        {
         "hoverlabel": {
          "namelength": 0
         },
         "hovertemplate": "Pandemic Name=%{text}<br>Year=%{x}<br>Death Count=%{marker.size}",
         "legendgroup": "1821 Barcelona yellow fever epidemic",
         "marker": {
          "color": "#ab63fa",
          "size": [
           0.52
          ],
          "sizemode": "area",
          "sizeref": 0.001125,
          "symbol": "circle"
         },
         "mode": "markers+text",
         "name": "1821 Barcelona yellow fever epidemic",
         "showlegend": true,
         "text": [
          "1821 Barcelona yellow fever epidemic"
         ],
         "textfont": {
          "size": 8
         },
         "textposition": "middle center",
         "type": "scatter",
         "x": [
          "1821"
         ],
         "xaxis": "x",
         "y": [
          0.52
         ],
         "yaxis": "y"
        },
        {
         "hoverlabel": {
          "namelength": 0
         },
         "hovertemplate": "Pandemic Name=%{text}<br>Year=%{x}<br>Death Count=%{marker.size}",
         "legendgroup": "Second cholera pandemic",
         "marker": {
          "color": "#FFA15A",
          "size": [
           0.1
          ],
          "sizemode": "area",
          "sizeref": 0.001125,
          "symbol": "circle"
         },
         "mode": "markers+text",
         "name": "Second cholera pandemic",
         "showlegend": true,
         "text": [
          "Second cholera pandemic"
         ],
         "textfont": {
          "size": 8
         },
         "textposition": "middle center",
         "type": "scatter",
         "x": [
          "1826"
         ],
         "xaxis": "x",
         "y": [
          0.1
         ],
         "yaxis": "y"
        },
        {
         "hoverlabel": {
          "namelength": 0
         },
         "hovertemplate": "Pandemic Name=%{text}<br>Year=%{x}<br>Death Count=%{marker.size}",
         "legendgroup": "1829–1833 Pacific Northwest malaria epidemic",
         "marker": {
          "color": "#19d3f3",
          "size": [
           0.15
          ],
          "sizemode": "area",
          "sizeref": 0.001125,
          "symbol": "circle"
         },
         "mode": "markers+text",
         "name": "1829–1833 Pacific Northwest malaria epidemic",
         "showlegend": true,
         "text": [
          "1829–1833 Pacific Northwest malaria epidemic"
         ],
         "textfont": {
          "size": 8
         },
         "textposition": "middle center",
         "type": "scatter",
         "x": [
          "1829"
         ],
         "xaxis": "x",
         "y": [
          0.15
         ],
         "yaxis": "y"
        },
        {
         "hoverlabel": {
          "namelength": 0
         },
         "hovertemplate": "Pandemic Name=%{text}<br>Year=%{x}<br>Death Count=%{marker.size}",
         "legendgroup": "Fourth cholera pandemic",
         "marker": {
          "color": "#FF6692",
          "size": [
           0.6
          ],
          "sizemode": "area",
          "sizeref": 0.001125,
          "symbol": "circle"
         },
         "mode": "markers+text",
         "name": "Fourth cholera pandemic",
         "showlegend": true,
         "text": [
          "Fourth cholera pandemic"
         ],
         "textfont": {
          "size": 8
         },
         "textposition": "middle center",
         "type": "scatter",
         "x": [
          "1863"
         ],
         "xaxis": "x",
         "y": [
          0.6
         ],
         "yaxis": "y"
        },
        {
         "hoverlabel": {
          "namelength": 0
         },
         "hovertemplate": "Pandemic Name=%{text}<br>Year=%{x}<br>Death Count=%{marker.size}",
         "legendgroup": "1871 Buenos Aires yellow fever epidemic",
         "marker": {
          "color": "#B6E880",
          "size": [
           1.33
          ],
          "sizemode": "area",
          "sizeref": 0.001125,
          "symbol": "circle"
         },
         "mode": "markers+text",
         "name": "1871 Buenos Aires yellow fever epidemic",
         "showlegend": true,
         "text": [
          "1871 Buenos Aires yellow fever epidemic"
         ],
         "textfont": {
          "size": 8
         },
         "textposition": "middle center",
         "type": "scatter",
         "x": [
          "1871"
         ],
         "xaxis": "x",
         "y": [
          1.33
         ],
         "yaxis": "y"
        },
        {
         "hoverlabel": {
          "namelength": 0
         },
         "hovertemplate": "Pandemic Name=%{text}<br>Year=%{x}<br>Death Count=%{marker.size}",
         "legendgroup": "1870–1875 Europe smallpox epidemic",
         "marker": {
          "color": "#FF97FF",
          "size": [
           0.5
          ],
          "sizemode": "area",
          "sizeref": 0.001125,
          "symbol": "circle"
         },
         "mode": "markers+text",
         "name": "1870–1875 Europe smallpox epidemic",
         "showlegend": true,
         "text": [
          "1870–1875 Europe smallpox epidemic"
         ],
         "textfont": {
          "size": 8
         },
         "textposition": "middle center",
         "type": "scatter",
         "x": [
          "1870"
         ],
         "xaxis": "x",
         "y": [
          0.5
         ],
         "yaxis": "y"
        },
        {
         "hoverlabel": {
          "namelength": 0
         },
         "hovertemplate": "Pandemic Name=%{text}<br>Year=%{x}<br>Death Count=%{marker.size}",
         "legendgroup": "Fifth cholera pandemic",
         "marker": {
          "color": "#FECB52",
          "size": [
           0.3
          ],
          "sizemode": "area",
          "sizeref": 0.001125,
          "symbol": "circle"
         },
         "mode": "markers+text",
         "name": "Fifth cholera pandemic",
         "showlegend": true,
         "text": [
          "Fifth cholera pandemic"
         ],
         "textfont": {
          "size": 8
         },
         "textposition": "middle center",
         "type": "scatter",
         "x": [
          "1881"
         ],
         "xaxis": "x",
         "y": [
          0.3
         ],
         "yaxis": "y"
        },
        {
         "hoverlabel": {
          "namelength": 0
         },
         "hovertemplate": "Pandemic Name=%{text}<br>Year=%{x}<br>Death Count=%{marker.size}",
         "legendgroup": "1896–1906 Congo Basin African trypanosomiasis epidemic",
         "marker": {
          "color": "#636efa",
          "size": [
           0.5
          ],
          "sizemode": "area",
          "sizeref": 0.001125,
          "symbol": "circle"
         },
         "mode": "markers+text",
         "name": "1896–1906 Congo Basin African trypanosomiasis epidemic",
         "showlegend": true,
         "text": [
          "1896–1906 Congo Basin African trypanosomiasis epidemic"
         ],
         "textfont": {
          "size": 8
         },
         "textposition": "middle center",
         "type": "scatter",
         "x": [
          "1896"
         ],
         "xaxis": "x",
         "y": [
          0.5
         ],
         "yaxis": "y"
        },
        {
         "hoverlabel": {
          "namelength": 0
         },
         "hovertemplate": "Pandemic Name=%{text}<br>Year=%{x}<br>Death Count=%{marker.size}",
         "legendgroup": "Sixth cholera pandemic",
         "marker": {
          "color": "#EF553B",
          "size": [
           0.8
          ],
          "sizemode": "area",
          "sizeref": 0.001125,
          "symbol": "circle"
         },
         "mode": "markers+text",
         "name": "Sixth cholera pandemic",
         "showlegend": true,
         "text": [
          "Sixth cholera pandemic"
         ],
         "textfont": {
          "size": 8
         },
         "textposition": "middle center",
         "type": "scatter",
         "x": [
          "1899"
         ],
         "xaxis": "x",
         "y": [
          0.8
         ],
         "yaxis": "y"
        },
        {
         "hoverlabel": {
          "namelength": 0
         },
         "hovertemplate": "Pandemic Name=%{text}<br>Year=%{x}<br>Death Count=%{marker.size}",
         "legendgroup": "COVID-19 pandemic",
         "marker": {
          "color": "#00cc96",
          "size": [
           0.38
          ],
          "sizemode": "area",
          "sizeref": 0.001125,
          "symbol": "circle"
         },
         "mode": "markers+text",
         "name": "COVID-19 pandemic",
         "showlegend": true,
         "text": [
          "COVID-19 pandemic"
         ],
         "textfont": {
          "size": 8
         },
         "textposition": "middle center",
         "type": "scatter",
         "x": [
          "2019"
         ],
         "xaxis": "x",
         "y": [
          0.38
         ],
         "yaxis": "y"
        }
       ],
       "layout": {
        "annotations": [
         {
          "bgcolor": "floralwhite",
          "font": {
           "color": "black",
           "family": "Calibri, monospace",
           "size": 15
          },
          "text": "Covid19 Deaths: .38M",
          "x": 2019,
          "y": 0.38
         },
         {
          "font": {
           "color": "black",
           "family": "Calibri, monospace",
           "size": 15
          },
          "text": "<b>pan·dem·ic</b><br>(of a disease) prevalent over a <br>whole country or the world.",
          "x": 2019,
          "y": 4
         }
        ],
        "font": {
         "color": "#7f7f7f",
         "family": "Calibri, monospace",
         "size": 18
        },
        "height": 800,
        "legend": {
         "itemsizing": "constant",
         "title": {
          "text": "Pandemic Name"
         },
         "tracegroupgap": 0
        },
        "margin": {
         "t": 60
        },
        "showlegend": false,
        "template": {
         "data": {
          "bar": [
           {
            "error_x": {
             "color": "#2a3f5f"
            },
            "error_y": {
             "color": "#2a3f5f"
            },
            "marker": {
             "line": {
              "color": "#E5ECF6",
              "width": 0.5
             }
            },
            "type": "bar"
           }
          ],
          "barpolar": [
           {
            "marker": {
             "line": {
              "color": "#E5ECF6",
              "width": 0.5
             }
            },
            "type": "barpolar"
           }
          ],
          "carpet": [
           {
            "aaxis": {
             "endlinecolor": "#2a3f5f",
             "gridcolor": "white",
             "linecolor": "white",
             "minorgridcolor": "white",
             "startlinecolor": "#2a3f5f"
            },
            "baxis": {
             "endlinecolor": "#2a3f5f",
             "gridcolor": "white",
             "linecolor": "white",
             "minorgridcolor": "white",
             "startlinecolor": "#2a3f5f"
            },
            "type": "carpet"
           }
          ],
          "choropleth": [
           {
            "colorbar": {
             "outlinewidth": 0,
             "ticks": ""
            },
            "type": "choropleth"
           }
          ],
          "contour": [
           {
            "colorbar": {
             "outlinewidth": 0,
             "ticks": ""
            },
            "colorscale": [
             [
              0,
              "#0d0887"
             ],
             [
              0.1111111111111111,
              "#46039f"
             ],
             [
              0.2222222222222222,
              "#7201a8"
             ],
             [
              0.3333333333333333,
              "#9c179e"
             ],
             [
              0.4444444444444444,
              "#bd3786"
             ],
             [
              0.5555555555555556,
              "#d8576b"
             ],
             [
              0.6666666666666666,
              "#ed7953"
             ],
             [
              0.7777777777777778,
              "#fb9f3a"
             ],
             [
              0.8888888888888888,
              "#fdca26"
             ],
             [
              1,
              "#f0f921"
             ]
            ],
            "type": "contour"
           }
          ],
          "contourcarpet": [
           {
            "colorbar": {
             "outlinewidth": 0,
             "ticks": ""
            },
            "type": "contourcarpet"
           }
          ],
          "heatmap": [
           {
            "colorbar": {
             "outlinewidth": 0,
             "ticks": ""
            },
            "colorscale": [
             [
              0,
              "#0d0887"
             ],
             [
              0.1111111111111111,
              "#46039f"
             ],
             [
              0.2222222222222222,
              "#7201a8"
             ],
             [
              0.3333333333333333,
              "#9c179e"
             ],
             [
              0.4444444444444444,
              "#bd3786"
             ],
             [
              0.5555555555555556,
              "#d8576b"
             ],
             [
              0.6666666666666666,
              "#ed7953"
             ],
             [
              0.7777777777777778,
              "#fb9f3a"
             ],
             [
              0.8888888888888888,
              "#fdca26"
             ],
             [
              1,
              "#f0f921"
             ]
            ],
            "type": "heatmap"
           }
          ],
          "heatmapgl": [
           {
            "colorbar": {
             "outlinewidth": 0,
             "ticks": ""
            },
            "colorscale": [
             [
              0,
              "#0d0887"
             ],
             [
              0.1111111111111111,
              "#46039f"
             ],
             [
              0.2222222222222222,
              "#7201a8"
             ],
             [
              0.3333333333333333,
              "#9c179e"
             ],
             [
              0.4444444444444444,
              "#bd3786"
             ],
             [
              0.5555555555555556,
              "#d8576b"
             ],
             [
              0.6666666666666666,
              "#ed7953"
             ],
             [
              0.7777777777777778,
              "#fb9f3a"
             ],
             [
              0.8888888888888888,
              "#fdca26"
             ],
             [
              1,
              "#f0f921"
             ]
            ],
            "type": "heatmapgl"
           }
          ],
          "histogram": [
           {
            "marker": {
             "colorbar": {
              "outlinewidth": 0,
              "ticks": ""
             }
            },
            "type": "histogram"
           }
          ],
          "histogram2d": [
           {
            "colorbar": {
             "outlinewidth": 0,
             "ticks": ""
            },
            "colorscale": [
             [
              0,
              "#0d0887"
             ],
             [
              0.1111111111111111,
              "#46039f"
             ],
             [
              0.2222222222222222,
              "#7201a8"
             ],
             [
              0.3333333333333333,
              "#9c179e"
             ],
             [
              0.4444444444444444,
              "#bd3786"
             ],
             [
              0.5555555555555556,
              "#d8576b"
             ],
             [
              0.6666666666666666,
              "#ed7953"
             ],
             [
              0.7777777777777778,
              "#fb9f3a"
             ],
             [
              0.8888888888888888,
              "#fdca26"
             ],
             [
              1,
              "#f0f921"
             ]
            ],
            "type": "histogram2d"
           }
          ],
          "histogram2dcontour": [
           {
            "colorbar": {
             "outlinewidth": 0,
             "ticks": ""
            },
            "colorscale": [
             [
              0,
              "#0d0887"
             ],
             [
              0.1111111111111111,
              "#46039f"
             ],
             [
              0.2222222222222222,
              "#7201a8"
             ],
             [
              0.3333333333333333,
              "#9c179e"
             ],
             [
              0.4444444444444444,
              "#bd3786"
             ],
             [
              0.5555555555555556,
              "#d8576b"
             ],
             [
              0.6666666666666666,
              "#ed7953"
             ],
             [
              0.7777777777777778,
              "#fb9f3a"
             ],
             [
              0.8888888888888888,
              "#fdca26"
             ],
             [
              1,
              "#f0f921"
             ]
            ],
            "type": "histogram2dcontour"
           }
          ],
          "mesh3d": [
           {
            "colorbar": {
             "outlinewidth": 0,
             "ticks": ""
            },
            "type": "mesh3d"
           }
          ],
          "parcoords": [
           {
            "line": {
             "colorbar": {
              "outlinewidth": 0,
              "ticks": ""
             }
            },
            "type": "parcoords"
           }
          ],
          "pie": [
           {
            "automargin": true,
            "type": "pie"
           }
          ],
          "scatter": [
           {
            "marker": {
             "colorbar": {
              "outlinewidth": 0,
              "ticks": ""
             }
            },
            "type": "scatter"
           }
          ],
          "scatter3d": [
           {
            "line": {
             "colorbar": {
              "outlinewidth": 0,
              "ticks": ""
             }
            },
            "marker": {
             "colorbar": {
              "outlinewidth": 0,
              "ticks": ""
             }
            },
            "type": "scatter3d"
           }
          ],
          "scattercarpet": [
           {
            "marker": {
             "colorbar": {
              "outlinewidth": 0,
              "ticks": ""
             }
            },
            "type": "scattercarpet"
           }
          ],
          "scattergeo": [
           {
            "marker": {
             "colorbar": {
              "outlinewidth": 0,
              "ticks": ""
             }
            },
            "type": "scattergeo"
           }
          ],
          "scattergl": [
           {
            "marker": {
             "colorbar": {
              "outlinewidth": 0,
              "ticks": ""
             }
            },
            "type": "scattergl"
           }
          ],
          "scattermapbox": [
           {
            "marker": {
             "colorbar": {
              "outlinewidth": 0,
              "ticks": ""
             }
            },
            "type": "scattermapbox"
           }
          ],
          "scatterpolar": [
           {
            "marker": {
             "colorbar": {
              "outlinewidth": 0,
              "ticks": ""
             }
            },
            "type": "scatterpolar"
           }
          ],
          "scatterpolargl": [
           {
            "marker": {
             "colorbar": {
              "outlinewidth": 0,
              "ticks": ""
             }
            },
            "type": "scatterpolargl"
           }
          ],
          "scatterternary": [
           {
            "marker": {
             "colorbar": {
              "outlinewidth": 0,
              "ticks": ""
             }
            },
            "type": "scatterternary"
           }
          ],
          "surface": [
           {
            "colorbar": {
             "outlinewidth": 0,
             "ticks": ""
            },
            "colorscale": [
             [
              0,
              "#0d0887"
             ],
             [
              0.1111111111111111,
              "#46039f"
             ],
             [
              0.2222222222222222,
              "#7201a8"
             ],
             [
              0.3333333333333333,
              "#9c179e"
             ],
             [
              0.4444444444444444,
              "#bd3786"
             ],
             [
              0.5555555555555556,
              "#d8576b"
             ],
             [
              0.6666666666666666,
              "#ed7953"
             ],
             [
              0.7777777777777778,
              "#fb9f3a"
             ],
             [
              0.8888888888888888,
              "#fdca26"
             ],
             [
              1,
              "#f0f921"
             ]
            ],
            "type": "surface"
           }
          ],
          "table": [
           {
            "cells": {
             "fill": {
              "color": "#EBF0F8"
             },
             "line": {
              "color": "white"
             }
            },
            "header": {
             "fill": {
              "color": "#C8D4E3"
             },
             "line": {
              "color": "white"
             }
            },
            "type": "table"
           }
          ]
         },
         "layout": {
          "annotationdefaults": {
           "arrowcolor": "#2a3f5f",
           "arrowhead": 0,
           "arrowwidth": 1
          },
          "coloraxis": {
           "colorbar": {
            "outlinewidth": 0,
            "ticks": ""
           }
          },
          "colorscale": {
           "diverging": [
            [
             0,
             "#8e0152"
            ],
            [
             0.1,
             "#c51b7d"
            ],
            [
             0.2,
             "#de77ae"
            ],
            [
             0.3,
             "#f1b6da"
            ],
            [
             0.4,
             "#fde0ef"
            ],
            [
             0.5,
             "#f7f7f7"
            ],
            [
             0.6,
             "#e6f5d0"
            ],
            [
             0.7,
             "#b8e186"
            ],
            [
             0.8,
             "#7fbc41"
            ],
            [
             0.9,
             "#4d9221"
            ],
            [
             1,
             "#276419"
            ]
           ],
           "sequential": [
            [
             0,
             "#0d0887"
            ],
            [
             0.1111111111111111,
             "#46039f"
            ],
            [
             0.2222222222222222,
             "#7201a8"
            ],
            [
             0.3333333333333333,
             "#9c179e"
            ],
            [
             0.4444444444444444,
             "#bd3786"
            ],
            [
             0.5555555555555556,
             "#d8576b"
            ],
            [
             0.6666666666666666,
             "#ed7953"
            ],
            [
             0.7777777777777778,
             "#fb9f3a"
            ],
            [
             0.8888888888888888,
             "#fdca26"
            ],
            [
             1,
             "#f0f921"
            ]
           ],
           "sequentialminus": [
            [
             0,
             "#0d0887"
            ],
            [
             0.1111111111111111,
             "#46039f"
            ],
            [
             0.2222222222222222,
             "#7201a8"
            ],
            [
             0.3333333333333333,
             "#9c179e"
            ],
            [
             0.4444444444444444,
             "#bd3786"
            ],
            [
             0.5555555555555556,
             "#d8576b"
            ],
            [
             0.6666666666666666,
             "#ed7953"
            ],
            [
             0.7777777777777778,
             "#fb9f3a"
            ],
            [
             0.8888888888888888,
             "#fdca26"
            ],
            [
             1,
             "#f0f921"
            ]
           ]
          },
          "colorway": [
           "#636efa",
           "#EF553B",
           "#00cc96",
           "#ab63fa",
           "#FFA15A",
           "#19d3f3",
           "#FF6692",
           "#B6E880",
           "#FF97FF",
           "#FECB52"
          ],
          "font": {
           "color": "#2a3f5f"
          },
          "geo": {
           "bgcolor": "white",
           "lakecolor": "white",
           "landcolor": "#E5ECF6",
           "showlakes": true,
           "showland": true,
           "subunitcolor": "white"
          },
          "hoverlabel": {
           "align": "left"
          },
          "hovermode": "closest",
          "mapbox": {
           "style": "light"
          },
          "paper_bgcolor": "white",
          "plot_bgcolor": "#E5ECF6",
          "polar": {
           "angularaxis": {
            "gridcolor": "white",
            "linecolor": "white",
            "ticks": ""
           },
           "bgcolor": "#E5ECF6",
           "radialaxis": {
            "gridcolor": "white",
            "linecolor": "white",
            "ticks": ""
           }
          },
          "scene": {
           "xaxis": {
            "backgroundcolor": "#E5ECF6",
            "gridcolor": "white",
            "gridwidth": 2,
            "linecolor": "white",
            "showbackground": true,
            "ticks": "",
            "zerolinecolor": "white"
           },
           "yaxis": {
            "backgroundcolor": "#E5ECF6",
            "gridcolor": "white",
            "gridwidth": 2,
            "linecolor": "white",
            "showbackground": true,
            "ticks": "",
            "zerolinecolor": "white"
           },
           "zaxis": {
            "backgroundcolor": "#E5ECF6",
            "gridcolor": "white",
            "gridwidth": 2,
            "linecolor": "white",
            "showbackground": true,
            "ticks": "",
            "zerolinecolor": "white"
           }
          },
          "shapedefaults": {
           "line": {
            "color": "#2a3f5f"
           }
          },
          "ternary": {
           "aaxis": {
            "gridcolor": "white",
            "linecolor": "white",
            "ticks": ""
           },
           "baxis": {
            "gridcolor": "white",
            "linecolor": "white",
            "ticks": ""
           },
           "bgcolor": "#E5ECF6",
           "caxis": {
            "gridcolor": "white",
            "linecolor": "white",
            "ticks": ""
           }
          },
          "title": {
           "x": 0.05
          },
          "xaxis": {
           "automargin": true,
           "gridcolor": "white",
           "linecolor": "white",
           "ticks": "",
           "title": {
            "standoff": 15
           },
           "zerolinecolor": "white",
           "zerolinewidth": 2
          },
          "yaxis": {
           "automargin": true,
           "gridcolor": "white",
           "linecolor": "white",
           "ticks": "",
           "title": {
            "standoff": 15
           },
           "zerolinecolor": "white",
           "zerolinewidth": 2
          }
         }
        },
        "title": {
         "text": "History of Pandemics-Ancient Era to Modern Times"
        },
        "uniformtext": {
         "minsize": 8,
         "mode": "hide"
        },
        "width": 1000,
        "xaxis": {
         "anchor": "y",
         "domain": [
          0,
          1
         ],
         "title": {
          "text": "Year"
         }
        },
        "yaxis": {
         "anchor": "x",
         "domain": [
          0,
          1
         ],
         "title": {
          "text": "Death Toll (per 1 Million)"
         }
        }
       }
      },
      "text/html": [
       "<div>\n",
       "        \n",
       "        \n",
       "            <div id=\"baff4cd5-ac90-459a-bb6a-2d2a8acff3d6\" class=\"plotly-graph-div\" style=\"height:800px; width:1000px;\"></div>\n",
       "            <script type=\"text/javascript\">\n",
       "                require([\"plotly\"], function(Plotly) {\n",
       "                    window.PLOTLYENV=window.PLOTLYENV || {};\n",
       "                    \n",
       "                if (document.getElementById(\"baff4cd5-ac90-459a-bb6a-2d2a8acff3d6\")) {\n",
       "                    Plotly.newPlot(\n",
       "                        'baff4cd5-ac90-459a-bb6a-2d2a8acff3d6',\n",
       "                        [{\"hoverlabel\": {\"namelength\": 0}, \"hovertemplate\": \"Pandemic Name=%{text}<br>Year=%{x}<br>Death Count=%{marker.size}\", \"legendgroup\": \"1629\\u20131631 Italian plague\", \"marker\": {\"color\": \"#636efa\", \"size\": [0.28], \"sizemode\": \"area\", \"sizeref\": 0.001125, \"symbol\": \"circle\"}, \"mode\": \"markers+text\", \"name\": \"1629\\u20131631 Italian plague\", \"showlegend\": true, \"text\": [\"1629\\u20131631 Italian plague\"], \"textfont\": {\"size\": 8}, \"textposition\": \"middle center\", \"type\": \"scatter\", \"x\": [\"1629\"], \"xaxis\": \"x\", \"y\": [0.28], \"yaxis\": \"y\"}, {\"hoverlabel\": {\"namelength\": 0}, \"hovertemplate\": \"Pandemic Name=%{text}<br>Year=%{x}<br>Death Count=%{marker.size}\", \"legendgroup\": \"1634\\u20131640 Wyandot people epidemic of infections\", \"marker\": {\"color\": \"#EF553B\", \"size\": [1.52], \"sizemode\": \"area\", \"sizeref\": 0.001125, \"symbol\": \"circle\"}, \"mode\": \"markers+text\", \"name\": \"1634\\u20131640 Wyandot people epidemic of infections\", \"showlegend\": true, \"text\": [\"1634\\u20131640 Wyandot people epidemic of infections\"], \"textfont\": {\"size\": 8}, \"textposition\": \"middle center\", \"type\": \"scatter\", \"x\": [\"1634\"], \"xaxis\": \"x\", \"y\": [1.52], \"yaxis\": \"y\"}, {\"hoverlabel\": {\"namelength\": 0}, \"hovertemplate\": \"Pandemic Name=%{text}<br>Year=%{x}<br>Death Count=%{marker.size}\", \"legendgroup\": \"Great Plague of Seville\", \"marker\": {\"color\": \"#00cc96\", \"size\": [0.5], \"sizemode\": \"area\", \"sizeref\": 0.001125, \"symbol\": \"circle\"}, \"mode\": \"markers+text\", \"name\": \"Great Plague of Seville\", \"showlegend\": true, \"text\": [\"Great Plague of Seville\"], \"textfont\": {\"size\": 8}, \"textposition\": \"middle center\", \"type\": \"scatter\", \"x\": [\"1647\"], \"xaxis\": \"x\", \"y\": [0.5], \"yaxis\": \"y\"}, {\"hoverlabel\": {\"namelength\": 0}, \"hovertemplate\": \"Pandemic Name=%{text}<br>Year=%{x}<br>Death Count=%{marker.size}\", \"legendgroup\": \"Naples Plague\", \"marker\": {\"color\": \"#ab63fa\", \"size\": [1.25], \"sizemode\": \"area\", \"sizeref\": 0.001125, \"symbol\": \"circle\"}, \"mode\": \"markers+text\", \"name\": \"Naples Plague\", \"showlegend\": true, \"text\": [\"Naples Plague\"], \"textfont\": {\"size\": 8}, \"textposition\": \"middle center\", \"type\": \"scatter\", \"x\": [\"1656\"], \"xaxis\": \"x\", \"y\": [1.25], \"yaxis\": \"y\"}, {\"hoverlabel\": {\"namelength\": 0}, \"hovertemplate\": \"Pandemic Name=%{text}<br>Year=%{x}<br>Death Count=%{marker.size}\", \"legendgroup\": \"Great Plague of London\", \"marker\": {\"color\": \"#FFA15A\", \"size\": [0.1], \"sizemode\": \"area\", \"sizeref\": 0.001125, \"symbol\": \"circle\"}, \"mode\": \"markers+text\", \"name\": \"Great Plague of London\", \"showlegend\": true, \"text\": [\"Great Plague of London\"], \"textfont\": {\"size\": 8}, \"textposition\": \"middle center\", \"type\": \"scatter\", \"x\": [\"1665\"], \"xaxis\": \"x\", \"y\": [0.1], \"yaxis\": \"y\"}, {\"hoverlabel\": {\"namelength\": 0}, \"hovertemplate\": \"Pandemic Name=%{text}<br>Year=%{x}<br>Death Count=%{marker.size}\", \"legendgroup\": \"Great Northern War plague outbreak\", \"marker\": {\"color\": \"#19d3f3\", \"size\": [0.16], \"sizemode\": \"area\", \"sizeref\": 0.001125, \"symbol\": \"circle\"}, \"mode\": \"markers+text\", \"name\": \"Great Northern War plague outbreak\", \"showlegend\": true, \"text\": [\"Great Northern War plague outbreak\"], \"textfont\": {\"size\": 8}, \"textposition\": \"middle center\", \"type\": \"scatter\", \"x\": [\"1710\"], \"xaxis\": \"x\", \"y\": [0.16], \"yaxis\": \"y\"}, {\"hoverlabel\": {\"namelength\": 0}, \"hovertemplate\": \"Pandemic Name=%{text}<br>Year=%{x}<br>Death Count=%{marker.size}\", \"legendgroup\": \"Great Plague of Marseille\", \"marker\": {\"color\": \"#FF6692\", \"size\": [0.1], \"sizemode\": \"area\", \"sizeref\": 0.001125, \"symbol\": \"circle\"}, \"mode\": \"markers+text\", \"name\": \"Great Plague of Marseille\", \"showlegend\": true, \"text\": [\"Great Plague of Marseille\"], \"textfont\": {\"size\": 8}, \"textposition\": \"middle center\", \"type\": \"scatter\", \"x\": [\"1720\"], \"xaxis\": \"x\", \"y\": [0.1], \"yaxis\": \"y\"}, {\"hoverlabel\": {\"namelength\": 0}, \"hovertemplate\": \"Pandemic Name=%{text}<br>Year=%{x}<br>Death Count=%{marker.size}\", \"legendgroup\": \"1738\\u20131739 North Carolina smallpox epidemic\", \"marker\": {\"color\": \"#B6E880\", \"size\": [0.71], \"sizemode\": \"area\", \"sizeref\": 0.001125, \"symbol\": \"circle\"}, \"mode\": \"markers+text\", \"name\": \"1738\\u20131739 North Carolina smallpox epidemic\", \"showlegend\": true, \"text\": [\"1738\\u20131739 North Carolina smallpox epidemic\"], \"textfont\": {\"size\": 8}, \"textposition\": \"middle center\", \"type\": \"scatter\", \"x\": [\"1738\"], \"xaxis\": \"x\", \"y\": [0.71], \"yaxis\": \"y\"}, {\"hoverlabel\": {\"namelength\": 0}, \"hovertemplate\": \"Pandemic Name=%{text}<br>Year=%{x}<br>Death Count=%{marker.size}\", \"legendgroup\": \"1743 Sicily plague epidemic\", \"marker\": {\"color\": \"#FF97FF\", \"size\": [4.05], \"sizemode\": \"area\", \"sizeref\": 0.001125, \"symbol\": \"circle\"}, \"mode\": \"markers+text\", \"name\": \"1743 Sicily plague epidemic\", \"showlegend\": true, \"text\": [\"1743 Sicily plague epidemic\"], \"textfont\": {\"size\": 8}, \"textposition\": \"middle center\", \"type\": \"scatter\", \"x\": [\"1743\"], \"xaxis\": \"x\", \"y\": [4.05], \"yaxis\": \"y\"}, {\"hoverlabel\": {\"namelength\": 0}, \"hovertemplate\": \"Pandemic Name=%{text}<br>Year=%{x}<br>Death Count=%{marker.size}\", \"legendgroup\": \"1802\\u20131803 Saint-Domingue yellow fever epidemic\", \"marker\": {\"color\": \"#FECB52\", \"size\": [2.96], \"sizemode\": \"area\", \"sizeref\": 0.001125, \"symbol\": \"circle\"}, \"mode\": \"markers+text\", \"name\": \"1802\\u20131803 Saint-Domingue yellow fever epidemic\", \"showlegend\": true, \"text\": [\"1802\\u20131803 Saint-Domingue yellow fever epidemic\"], \"textfont\": {\"size\": 8}, \"textposition\": \"middle center\", \"type\": \"scatter\", \"x\": [\"1802\"], \"xaxis\": \"x\", \"y\": [2.96], \"yaxis\": \"y\"}, {\"hoverlabel\": {\"namelength\": 0}, \"hovertemplate\": \"Pandemic Name=%{text}<br>Year=%{x}<br>Death Count=%{marker.size}\", \"legendgroup\": \"1812 Russia Typhus epidemic\", \"marker\": {\"color\": \"#636efa\", \"size\": [0.3], \"sizemode\": \"area\", \"sizeref\": 0.001125, \"symbol\": \"circle\"}, \"mode\": \"markers+text\", \"name\": \"1812 Russia Typhus epidemic\", \"showlegend\": true, \"text\": [\"1812 Russia Typhus epidemic\"], \"textfont\": {\"size\": 8}, \"textposition\": \"middle center\", \"type\": \"scatter\", \"x\": [\"1812\"], \"xaxis\": \"x\", \"y\": [0.3], \"yaxis\": \"y\"}, {\"hoverlabel\": {\"namelength\": 0}, \"hovertemplate\": \"Pandemic Name=%{text}<br>Year=%{x}<br>Death Count=%{marker.size}\", \"legendgroup\": \"1812\\u201319 Ottoman plague epidemic\", \"marker\": {\"color\": \"#EF553B\", \"size\": [0.3], \"sizemode\": \"area\", \"sizeref\": 0.001125, \"symbol\": \"circle\"}, \"mode\": \"markers+text\", \"name\": \"1812\\u201319 Ottoman plague epidemic\", \"showlegend\": true, \"text\": [\"1812\\u201319 Ottoman plague epidemic\"], \"textfont\": {\"size\": 8}, \"textposition\": \"middle center\", \"type\": \"scatter\", \"x\": [\"1812\"], \"xaxis\": \"x\", \"y\": [0.3], \"yaxis\": \"y\"}, {\"hoverlabel\": {\"namelength\": 0}, \"hovertemplate\": \"Pandemic Name=%{text}<br>Year=%{x}<br>Death Count=%{marker.size}\", \"legendgroup\": \"First cholera pandemic\", \"marker\": {\"color\": \"#00cc96\", \"size\": [0.1], \"sizemode\": \"area\", \"sizeref\": 0.001125, \"symbol\": \"circle\"}, \"mode\": \"markers+text\", \"name\": \"First cholera pandemic\", \"showlegend\": true, \"text\": [\"First cholera pandemic\"], \"textfont\": {\"size\": 8}, \"textposition\": \"middle center\", \"type\": \"scatter\", \"x\": [\"1817\"], \"xaxis\": \"x\", \"y\": [0.1], \"yaxis\": \"y\"}, {\"hoverlabel\": {\"namelength\": 0}, \"hovertemplate\": \"Pandemic Name=%{text}<br>Year=%{x}<br>Death Count=%{marker.size}\", \"legendgroup\": \"1821 Barcelona yellow fever epidemic\", \"marker\": {\"color\": \"#ab63fa\", \"size\": [0.52], \"sizemode\": \"area\", \"sizeref\": 0.001125, \"symbol\": \"circle\"}, \"mode\": \"markers+text\", \"name\": \"1821 Barcelona yellow fever epidemic\", \"showlegend\": true, \"text\": [\"1821 Barcelona yellow fever epidemic\"], \"textfont\": {\"size\": 8}, \"textposition\": \"middle center\", \"type\": \"scatter\", \"x\": [\"1821\"], \"xaxis\": \"x\", \"y\": [0.52], \"yaxis\": \"y\"}, {\"hoverlabel\": {\"namelength\": 0}, \"hovertemplate\": \"Pandemic Name=%{text}<br>Year=%{x}<br>Death Count=%{marker.size}\", \"legendgroup\": \"Second cholera pandemic\", \"marker\": {\"color\": \"#FFA15A\", \"size\": [0.1], \"sizemode\": \"area\", \"sizeref\": 0.001125, \"symbol\": \"circle\"}, \"mode\": \"markers+text\", \"name\": \"Second cholera pandemic\", \"showlegend\": true, \"text\": [\"Second cholera pandemic\"], \"textfont\": {\"size\": 8}, \"textposition\": \"middle center\", \"type\": \"scatter\", \"x\": [\"1826\"], \"xaxis\": \"x\", \"y\": [0.1], \"yaxis\": \"y\"}, {\"hoverlabel\": {\"namelength\": 0}, \"hovertemplate\": \"Pandemic Name=%{text}<br>Year=%{x}<br>Death Count=%{marker.size}\", \"legendgroup\": \"1829\\u20131833 Pacific Northwest malaria epidemic\", \"marker\": {\"color\": \"#19d3f3\", \"size\": [0.15], \"sizemode\": \"area\", \"sizeref\": 0.001125, \"symbol\": \"circle\"}, \"mode\": \"markers+text\", \"name\": \"1829\\u20131833 Pacific Northwest malaria epidemic\", \"showlegend\": true, \"text\": [\"1829\\u20131833 Pacific Northwest malaria epidemic\"], \"textfont\": {\"size\": 8}, \"textposition\": \"middle center\", \"type\": \"scatter\", \"x\": [\"1829\"], \"xaxis\": \"x\", \"y\": [0.15], \"yaxis\": \"y\"}, {\"hoverlabel\": {\"namelength\": 0}, \"hovertemplate\": \"Pandemic Name=%{text}<br>Year=%{x}<br>Death Count=%{marker.size}\", \"legendgroup\": \"Fourth cholera pandemic\", \"marker\": {\"color\": \"#FF6692\", \"size\": [0.6], \"sizemode\": \"area\", \"sizeref\": 0.001125, \"symbol\": \"circle\"}, \"mode\": \"markers+text\", \"name\": \"Fourth cholera pandemic\", \"showlegend\": true, \"text\": [\"Fourth cholera pandemic\"], \"textfont\": {\"size\": 8}, \"textposition\": \"middle center\", \"type\": \"scatter\", \"x\": [\"1863\"], \"xaxis\": \"x\", \"y\": [0.6], \"yaxis\": \"y\"}, {\"hoverlabel\": {\"namelength\": 0}, \"hovertemplate\": \"Pandemic Name=%{text}<br>Year=%{x}<br>Death Count=%{marker.size}\", \"legendgroup\": \"1871 Buenos Aires yellow fever epidemic\", \"marker\": {\"color\": \"#B6E880\", \"size\": [1.33], \"sizemode\": \"area\", \"sizeref\": 0.001125, \"symbol\": \"circle\"}, \"mode\": \"markers+text\", \"name\": \"1871 Buenos Aires yellow fever epidemic\", \"showlegend\": true, \"text\": [\"1871 Buenos Aires yellow fever epidemic\"], \"textfont\": {\"size\": 8}, \"textposition\": \"middle center\", \"type\": \"scatter\", \"x\": [\"1871\"], \"xaxis\": \"x\", \"y\": [1.33], \"yaxis\": \"y\"}, {\"hoverlabel\": {\"namelength\": 0}, \"hovertemplate\": \"Pandemic Name=%{text}<br>Year=%{x}<br>Death Count=%{marker.size}\", \"legendgroup\": \"1870\\u20131875 Europe smallpox epidemic\", \"marker\": {\"color\": \"#FF97FF\", \"size\": [0.5], \"sizemode\": \"area\", \"sizeref\": 0.001125, \"symbol\": \"circle\"}, \"mode\": \"markers+text\", \"name\": \"1870\\u20131875 Europe smallpox epidemic\", \"showlegend\": true, \"text\": [\"1870\\u20131875 Europe smallpox epidemic\"], \"textfont\": {\"size\": 8}, \"textposition\": \"middle center\", \"type\": \"scatter\", \"x\": [\"1870\"], \"xaxis\": \"x\", \"y\": [0.5], \"yaxis\": \"y\"}, {\"hoverlabel\": {\"namelength\": 0}, \"hovertemplate\": \"Pandemic Name=%{text}<br>Year=%{x}<br>Death Count=%{marker.size}\", \"legendgroup\": \"Fifth cholera pandemic\", \"marker\": {\"color\": \"#FECB52\", \"size\": [0.3], \"sizemode\": \"area\", \"sizeref\": 0.001125, \"symbol\": \"circle\"}, \"mode\": \"markers+text\", \"name\": \"Fifth cholera pandemic\", \"showlegend\": true, \"text\": [\"Fifth cholera pandemic\"], \"textfont\": {\"size\": 8}, \"textposition\": \"middle center\", \"type\": \"scatter\", \"x\": [\"1881\"], \"xaxis\": \"x\", \"y\": [0.3], \"yaxis\": \"y\"}, {\"hoverlabel\": {\"namelength\": 0}, \"hovertemplate\": \"Pandemic Name=%{text}<br>Year=%{x}<br>Death Count=%{marker.size}\", \"legendgroup\": \"1896\\u20131906 Congo Basin African trypanosomiasis epidemic\", \"marker\": {\"color\": \"#636efa\", \"size\": [0.5], \"sizemode\": \"area\", \"sizeref\": 0.001125, \"symbol\": \"circle\"}, \"mode\": \"markers+text\", \"name\": \"1896\\u20131906 Congo Basin African trypanosomiasis epidemic\", \"showlegend\": true, \"text\": [\"1896\\u20131906 Congo Basin African trypanosomiasis epidemic\"], \"textfont\": {\"size\": 8}, \"textposition\": \"middle center\", \"type\": \"scatter\", \"x\": [\"1896\"], \"xaxis\": \"x\", \"y\": [0.5], \"yaxis\": \"y\"}, {\"hoverlabel\": {\"namelength\": 0}, \"hovertemplate\": \"Pandemic Name=%{text}<br>Year=%{x}<br>Death Count=%{marker.size}\", \"legendgroup\": \"Sixth cholera pandemic\", \"marker\": {\"color\": \"#EF553B\", \"size\": [0.8], \"sizemode\": \"area\", \"sizeref\": 0.001125, \"symbol\": \"circle\"}, \"mode\": \"markers+text\", \"name\": \"Sixth cholera pandemic\", \"showlegend\": true, \"text\": [\"Sixth cholera pandemic\"], \"textfont\": {\"size\": 8}, \"textposition\": \"middle center\", \"type\": \"scatter\", \"x\": [\"1899\"], \"xaxis\": \"x\", \"y\": [0.8], \"yaxis\": \"y\"}, {\"hoverlabel\": {\"namelength\": 0}, \"hovertemplate\": \"Pandemic Name=%{text}<br>Year=%{x}<br>Death Count=%{marker.size}\", \"legendgroup\": \"COVID-19 pandemic\", \"marker\": {\"color\": \"#00cc96\", \"size\": [0.38], \"sizemode\": \"area\", \"sizeref\": 0.001125, \"symbol\": \"circle\"}, \"mode\": \"markers+text\", \"name\": \"COVID-19 pandemic\", \"showlegend\": true, \"text\": [\"COVID-19 pandemic\"], \"textfont\": {\"size\": 8}, \"textposition\": \"middle center\", \"type\": \"scatter\", \"x\": [\"2019\"], \"xaxis\": \"x\", \"y\": [0.38], \"yaxis\": \"y\"}],\n",
       "                        {\"annotations\": [{\"bgcolor\": \"floralwhite\", \"font\": {\"color\": \"black\", \"family\": \"Calibri, monospace\", \"size\": 15}, \"text\": \"Covid19 Deaths: .38M\", \"x\": 2019, \"y\": 0.38}, {\"font\": {\"color\": \"black\", \"family\": \"Calibri, monospace\", \"size\": 15}, \"text\": \"<b>pan\\u00b7dem\\u00b7ic</b><br>(of a disease) prevalent over a <br>whole country or the world.\", \"x\": 2019, \"y\": 4}], \"font\": {\"color\": \"#7f7f7f\", \"family\": \"Calibri, monospace\", \"size\": 18}, \"height\": 800, \"legend\": {\"itemsizing\": \"constant\", \"title\": {\"text\": \"Pandemic Name\"}, \"tracegroupgap\": 0}, \"margin\": {\"t\": 60}, \"showlegend\": false, \"template\": {\"data\": {\"bar\": [{\"error_x\": {\"color\": \"#2a3f5f\"}, \"error_y\": {\"color\": \"#2a3f5f\"}, \"marker\": {\"line\": {\"color\": \"#E5ECF6\", \"width\": 0.5}}, \"type\": \"bar\"}], \"barpolar\": [{\"marker\": {\"line\": {\"color\": \"#E5ECF6\", \"width\": 0.5}}, \"type\": \"barpolar\"}], \"carpet\": [{\"aaxis\": {\"endlinecolor\": \"#2a3f5f\", \"gridcolor\": \"white\", \"linecolor\": \"white\", \"minorgridcolor\": \"white\", \"startlinecolor\": \"#2a3f5f\"}, \"baxis\": {\"endlinecolor\": \"#2a3f5f\", \"gridcolor\": \"white\", \"linecolor\": \"white\", \"minorgridcolor\": \"white\", \"startlinecolor\": \"#2a3f5f\"}, \"type\": \"carpet\"}], \"choropleth\": [{\"colorbar\": {\"outlinewidth\": 0, \"ticks\": \"\"}, \"type\": \"choropleth\"}], \"contour\": [{\"colorbar\": {\"outlinewidth\": 0, \"ticks\": \"\"}, \"colorscale\": [[0.0, \"#0d0887\"], [0.1111111111111111, \"#46039f\"], [0.2222222222222222, \"#7201a8\"], [0.3333333333333333, \"#9c179e\"], [0.4444444444444444, \"#bd3786\"], [0.5555555555555556, \"#d8576b\"], [0.6666666666666666, \"#ed7953\"], [0.7777777777777778, \"#fb9f3a\"], [0.8888888888888888, \"#fdca26\"], [1.0, \"#f0f921\"]], \"type\": \"contour\"}], \"contourcarpet\": [{\"colorbar\": {\"outlinewidth\": 0, \"ticks\": \"\"}, \"type\": \"contourcarpet\"}], \"heatmap\": [{\"colorbar\": {\"outlinewidth\": 0, \"ticks\": \"\"}, \"colorscale\": [[0.0, \"#0d0887\"], [0.1111111111111111, \"#46039f\"], [0.2222222222222222, \"#7201a8\"], [0.3333333333333333, \"#9c179e\"], [0.4444444444444444, \"#bd3786\"], [0.5555555555555556, \"#d8576b\"], [0.6666666666666666, \"#ed7953\"], [0.7777777777777778, \"#fb9f3a\"], [0.8888888888888888, \"#fdca26\"], [1.0, \"#f0f921\"]], \"type\": \"heatmap\"}], \"heatmapgl\": [{\"colorbar\": {\"outlinewidth\": 0, \"ticks\": \"\"}, \"colorscale\": [[0.0, \"#0d0887\"], [0.1111111111111111, \"#46039f\"], [0.2222222222222222, \"#7201a8\"], [0.3333333333333333, \"#9c179e\"], [0.4444444444444444, \"#bd3786\"], [0.5555555555555556, \"#d8576b\"], [0.6666666666666666, \"#ed7953\"], [0.7777777777777778, \"#fb9f3a\"], [0.8888888888888888, \"#fdca26\"], [1.0, \"#f0f921\"]], \"type\": \"heatmapgl\"}], \"histogram\": [{\"marker\": {\"colorbar\": {\"outlinewidth\": 0, \"ticks\": \"\"}}, \"type\": \"histogram\"}], \"histogram2d\": [{\"colorbar\": {\"outlinewidth\": 0, \"ticks\": \"\"}, \"colorscale\": [[0.0, \"#0d0887\"], [0.1111111111111111, \"#46039f\"], [0.2222222222222222, \"#7201a8\"], [0.3333333333333333, \"#9c179e\"], [0.4444444444444444, \"#bd3786\"], [0.5555555555555556, \"#d8576b\"], [0.6666666666666666, \"#ed7953\"], [0.7777777777777778, \"#fb9f3a\"], [0.8888888888888888, \"#fdca26\"], [1.0, \"#f0f921\"]], \"type\": \"histogram2d\"}], \"histogram2dcontour\": [{\"colorbar\": {\"outlinewidth\": 0, \"ticks\": \"\"}, \"colorscale\": [[0.0, \"#0d0887\"], [0.1111111111111111, \"#46039f\"], [0.2222222222222222, \"#7201a8\"], [0.3333333333333333, \"#9c179e\"], [0.4444444444444444, \"#bd3786\"], [0.5555555555555556, \"#d8576b\"], [0.6666666666666666, \"#ed7953\"], [0.7777777777777778, \"#fb9f3a\"], [0.8888888888888888, \"#fdca26\"], [1.0, \"#f0f921\"]], \"type\": \"histogram2dcontour\"}], \"mesh3d\": [{\"colorbar\": {\"outlinewidth\": 0, \"ticks\": \"\"}, \"type\": \"mesh3d\"}], \"parcoords\": [{\"line\": {\"colorbar\": {\"outlinewidth\": 0, \"ticks\": \"\"}}, \"type\": \"parcoords\"}], \"pie\": [{\"automargin\": true, \"type\": \"pie\"}], \"scatter\": [{\"marker\": {\"colorbar\": {\"outlinewidth\": 0, \"ticks\": \"\"}}, \"type\": \"scatter\"}], \"scatter3d\": [{\"line\": {\"colorbar\": {\"outlinewidth\": 0, \"ticks\": \"\"}}, \"marker\": {\"colorbar\": {\"outlinewidth\": 0, \"ticks\": \"\"}}, \"type\": \"scatter3d\"}], \"scattercarpet\": [{\"marker\": {\"colorbar\": {\"outlinewidth\": 0, \"ticks\": \"\"}}, \"type\": \"scattercarpet\"}], \"scattergeo\": [{\"marker\": {\"colorbar\": {\"outlinewidth\": 0, \"ticks\": \"\"}}, \"type\": \"scattergeo\"}], \"scattergl\": [{\"marker\": {\"colorbar\": {\"outlinewidth\": 0, \"ticks\": \"\"}}, \"type\": \"scattergl\"}], \"scattermapbox\": [{\"marker\": {\"colorbar\": {\"outlinewidth\": 0, \"ticks\": \"\"}}, \"type\": \"scattermapbox\"}], \"scatterpolar\": [{\"marker\": {\"colorbar\": {\"outlinewidth\": 0, \"ticks\": \"\"}}, \"type\": \"scatterpolar\"}], \"scatterpolargl\": [{\"marker\": {\"colorbar\": {\"outlinewidth\": 0, \"ticks\": \"\"}}, \"type\": \"scatterpolargl\"}], \"scatterternary\": [{\"marker\": {\"colorbar\": {\"outlinewidth\": 0, \"ticks\": \"\"}}, \"type\": \"scatterternary\"}], \"surface\": [{\"colorbar\": {\"outlinewidth\": 0, \"ticks\": \"\"}, \"colorscale\": [[0.0, \"#0d0887\"], [0.1111111111111111, \"#46039f\"], [0.2222222222222222, \"#7201a8\"], [0.3333333333333333, \"#9c179e\"], [0.4444444444444444, \"#bd3786\"], [0.5555555555555556, \"#d8576b\"], [0.6666666666666666, \"#ed7953\"], [0.7777777777777778, \"#fb9f3a\"], [0.8888888888888888, \"#fdca26\"], [1.0, \"#f0f921\"]], \"type\": \"surface\"}], \"table\": [{\"cells\": {\"fill\": {\"color\": \"#EBF0F8\"}, \"line\": {\"color\": \"white\"}}, \"header\": {\"fill\": {\"color\": \"#C8D4E3\"}, \"line\": {\"color\": \"white\"}}, \"type\": \"table\"}]}, \"layout\": {\"annotationdefaults\": {\"arrowcolor\": \"#2a3f5f\", \"arrowhead\": 0, \"arrowwidth\": 1}, \"coloraxis\": {\"colorbar\": {\"outlinewidth\": 0, \"ticks\": \"\"}}, \"colorscale\": {\"diverging\": [[0, \"#8e0152\"], [0.1, \"#c51b7d\"], [0.2, \"#de77ae\"], [0.3, \"#f1b6da\"], [0.4, \"#fde0ef\"], [0.5, \"#f7f7f7\"], [0.6, \"#e6f5d0\"], [0.7, \"#b8e186\"], [0.8, \"#7fbc41\"], [0.9, \"#4d9221\"], [1, \"#276419\"]], \"sequential\": [[0.0, \"#0d0887\"], [0.1111111111111111, \"#46039f\"], [0.2222222222222222, \"#7201a8\"], [0.3333333333333333, \"#9c179e\"], [0.4444444444444444, \"#bd3786\"], [0.5555555555555556, \"#d8576b\"], [0.6666666666666666, \"#ed7953\"], [0.7777777777777778, \"#fb9f3a\"], [0.8888888888888888, \"#fdca26\"], [1.0, \"#f0f921\"]], \"sequentialminus\": [[0.0, \"#0d0887\"], [0.1111111111111111, \"#46039f\"], [0.2222222222222222, \"#7201a8\"], [0.3333333333333333, \"#9c179e\"], [0.4444444444444444, \"#bd3786\"], [0.5555555555555556, \"#d8576b\"], [0.6666666666666666, \"#ed7953\"], [0.7777777777777778, \"#fb9f3a\"], [0.8888888888888888, \"#fdca26\"], [1.0, \"#f0f921\"]]}, \"colorway\": [\"#636efa\", \"#EF553B\", \"#00cc96\", \"#ab63fa\", \"#FFA15A\", \"#19d3f3\", \"#FF6692\", \"#B6E880\", \"#FF97FF\", \"#FECB52\"], \"font\": {\"color\": \"#2a3f5f\"}, \"geo\": {\"bgcolor\": \"white\", \"lakecolor\": \"white\", \"landcolor\": \"#E5ECF6\", \"showlakes\": true, \"showland\": true, \"subunitcolor\": \"white\"}, \"hoverlabel\": {\"align\": \"left\"}, \"hovermode\": \"closest\", \"mapbox\": {\"style\": \"light\"}, \"paper_bgcolor\": \"white\", \"plot_bgcolor\": \"#E5ECF6\", \"polar\": {\"angularaxis\": {\"gridcolor\": \"white\", \"linecolor\": \"white\", \"ticks\": \"\"}, \"bgcolor\": \"#E5ECF6\", \"radialaxis\": {\"gridcolor\": \"white\", \"linecolor\": \"white\", \"ticks\": \"\"}}, \"scene\": {\"xaxis\": {\"backgroundcolor\": \"#E5ECF6\", \"gridcolor\": \"white\", \"gridwidth\": 2, \"linecolor\": \"white\", \"showbackground\": true, \"ticks\": \"\", \"zerolinecolor\": \"white\"}, \"yaxis\": {\"backgroundcolor\": \"#E5ECF6\", \"gridcolor\": \"white\", \"gridwidth\": 2, \"linecolor\": \"white\", \"showbackground\": true, \"ticks\": \"\", \"zerolinecolor\": \"white\"}, \"zaxis\": {\"backgroundcolor\": \"#E5ECF6\", \"gridcolor\": \"white\", \"gridwidth\": 2, \"linecolor\": \"white\", \"showbackground\": true, \"ticks\": \"\", \"zerolinecolor\": \"white\"}}, \"shapedefaults\": {\"line\": {\"color\": \"#2a3f5f\"}}, \"ternary\": {\"aaxis\": {\"gridcolor\": \"white\", \"linecolor\": \"white\", \"ticks\": \"\"}, \"baxis\": {\"gridcolor\": \"white\", \"linecolor\": \"white\", \"ticks\": \"\"}, \"bgcolor\": \"#E5ECF6\", \"caxis\": {\"gridcolor\": \"white\", \"linecolor\": \"white\", \"ticks\": \"\"}}, \"title\": {\"x\": 0.05}, \"xaxis\": {\"automargin\": true, \"gridcolor\": \"white\", \"linecolor\": \"white\", \"ticks\": \"\", \"title\": {\"standoff\": 15}, \"zerolinecolor\": \"white\", \"zerolinewidth\": 2}, \"yaxis\": {\"automargin\": true, \"gridcolor\": \"white\", \"linecolor\": \"white\", \"ticks\": \"\", \"title\": {\"standoff\": 15}, \"zerolinecolor\": \"white\", \"zerolinewidth\": 2}}}, \"title\": {\"text\": \"History of Pandemics-Ancient Era to Modern Times\"}, \"uniformtext\": {\"minsize\": 8, \"mode\": \"hide\"}, \"width\": 1000, \"xaxis\": {\"anchor\": \"y\", \"domain\": [0.0, 1.0], \"title\": {\"text\": \"Year\"}}, \"yaxis\": {\"anchor\": \"x\", \"domain\": [0.0, 1.0], \"title\": {\"text\": \"Death Toll (per 1 Million)\"}}},\n",
       "                        {\"responsive\": true}\n",
       "                    ).then(function(){\n",
       "                            \n",
       "var gd = document.getElementById('baff4cd5-ac90-459a-bb6a-2d2a8acff3d6');\n",
       "var x = new MutationObserver(function (mutations, observer) {{\n",
       "        var display = window.getComputedStyle(gd).display;\n",
       "        if (!display || display === 'none') {{\n",
       "            console.log([gd, 'removed!']);\n",
       "            Plotly.purge(gd);\n",
       "            observer.disconnect();\n",
       "        }}\n",
       "}});\n",
       "\n",
       "// Listen for the removal of the full notebook cells\n",
       "var notebookContainer = gd.closest('#notebook-container');\n",
       "if (notebookContainer) {{\n",
       "    x.observe(notebookContainer, {childList: true});\n",
       "}}\n",
       "\n",
       "// Listen for the clearing of the current output cell\n",
       "var outputEl = gd.closest('.output');\n",
       "if (outputEl) {{\n",
       "    x.observe(outputEl, {childList: true});\n",
       "}}\n",
       "\n",
       "                        })\n",
       "                };\n",
       "                });\n",
       "            </script>\n",
       "        </div>"
      ]
     },
     "metadata": {},
     "output_type": "display_data"
    }
   ],
   "source": [
    "#plotting data based on requirement\n",
    "fig = px.scatter(df, x=\"Year\", y=\"Death Count\", size=\"Death Count\", color=\"Pandemic Name\",text = \"Pandemic Name\", \n",
    "                 log_x=False, size_max=60,width=1000, height=1000)\n",
    "fig.update_layout(showlegend=False)\n",
    "fig.update_layout(uniformtext_minsize=8, uniformtext_mode='hide')\n",
    "fig.update_layout(\n",
    "    height=800,\n",
    "    title_text='History of Pandemics-Ancient Era to Modern Times',\n",
    "    yaxis_title=\"Death Toll (per 1 Million)\",\n",
    "    font=dict(family=\"Calibri, monospace\",size=18,color=\"#7f7f7f\")\n",
    ")\n",
    "fig.update_traces(textposition='middle center')\n",
    "fig.update_traces(textfont_size=8)\n",
    "\n",
    "fig.add_annotation(\n",
    "            x=2019,\n",
    "            y=.38,\n",
    "            text=\"Covid19 Deaths: .38M\",bgcolor='floralwhite',font=dict(\n",
    "                family=\"Calibri, monospace\",\n",
    "                size=15,\n",
    "                color=\"black\"\n",
    "            ))\n",
    "\n",
    "fig.add_annotation(\n",
    "            x=2019,\n",
    "            y=4,\n",
    "            text=\"<b>pan·dem·ic</b><br>(of a disease) prevalent over a <br>whole country or the world.\",\n",
    "font=dict(\n",
    "                family=\"Calibri, monospace\",\n",
    "                size=15,\n",
    "                color=\"black\"\n",
    "            ))\n",
    "fig.show()"
   ]
  },
  {
   "cell_type": "markdown",
   "metadata": {},
   "source": [
    "### Magnitude"
   ]
  },
  {
   "cell_type": "code",
   "execution_count": 605,
   "metadata": {},
   "outputs": [],
   "source": [
    "#Creating new column by dividing the death count of covid with others.\n",
    "wiki_pandemic_df['Magnitude']=wiki_pandemic_df['Death Count']/381247"
   ]
  },
  {
   "cell_type": "code",
   "execution_count": 623,
   "metadata": {},
   "outputs": [],
   "source": [
    "df_magnitude=wiki_pandemic_df[wiki_pandemic_df['Magnitude']>=2.0].reset_index(drop=True)\n",
    "df_magnitude['Axis']=0"
   ]
  },
  {
   "cell_type": "code",
   "execution_count": 624,
   "metadata": {},
   "outputs": [
    {
     "data": {
      "text/html": [
       "<div>\n",
       "<style scoped>\n",
       "    .dataframe tbody tr th:only-of-type {\n",
       "        vertical-align: middle;\n",
       "    }\n",
       "\n",
       "    .dataframe tbody tr th {\n",
       "        vertical-align: top;\n",
       "    }\n",
       "\n",
       "    .dataframe thead th {\n",
       "        text-align: right;\n",
       "    }\n",
       "</style>\n",
       "<table border=\"1\" class=\"dataframe\">\n",
       "  <thead>\n",
       "    <tr style=\"text-align: right;\">\n",
       "      <th></th>\n",
       "      <th>Pandemic Name</th>\n",
       "      <th>Year</th>\n",
       "      <th>Death Count</th>\n",
       "      <th>Magnitude</th>\n",
       "      <th>Axis</th>\n",
       "    </tr>\n",
       "  </thead>\n",
       "  <tbody>\n",
       "    <tr>\n",
       "      <th>0</th>\n",
       "      <td>Plague of Athens</td>\n",
       "      <td>429</td>\n",
       "      <td>75100000.0</td>\n",
       "      <td>196.985157</td>\n",
       "      <td>0</td>\n",
       "    </tr>\n",
       "    <tr>\n",
       "      <th>1</th>\n",
       "      <td>1596-1602 Spain plague epidemic</td>\n",
       "      <td>1596</td>\n",
       "      <td>600700000.0</td>\n",
       "      <td>1575.618956</td>\n",
       "      <td>0</td>\n",
       "    </tr>\n",
       "    <tr>\n",
       "      <th>2</th>\n",
       "      <td>1634–1640 Wyandot people epidemic of infections</td>\n",
       "      <td>1634</td>\n",
       "      <td>1525000.0</td>\n",
       "      <td>4.000031</td>\n",
       "      <td>0</td>\n",
       "    </tr>\n",
       "    <tr>\n",
       "      <th>3</th>\n",
       "      <td>Naples Plague</td>\n",
       "      <td>1656</td>\n",
       "      <td>1250000.0</td>\n",
       "      <td>3.278714</td>\n",
       "      <td>0</td>\n",
       "    </tr>\n",
       "    <tr>\n",
       "      <th>4</th>\n",
       "      <td>1743 Sicily plague epidemic</td>\n",
       "      <td>1743</td>\n",
       "      <td>4050000.0</td>\n",
       "      <td>10.623034</td>\n",
       "      <td>0</td>\n",
       "    </tr>\n",
       "    <tr>\n",
       "      <th>5</th>\n",
       "      <td>1802–1803 Saint-Domingue yellow fever epidemic</td>\n",
       "      <td>1802</td>\n",
       "      <td>2955000.0</td>\n",
       "      <td>7.750881</td>\n",
       "      <td>0</td>\n",
       "    </tr>\n",
       "    <tr>\n",
       "      <th>6</th>\n",
       "      <td>1871 Buenos Aires yellow fever epidemic</td>\n",
       "      <td>1871</td>\n",
       "      <td>1326200.0</td>\n",
       "      <td>3.478585</td>\n",
       "      <td>0</td>\n",
       "    </tr>\n",
       "    <tr>\n",
       "      <th>7</th>\n",
       "      <td>Sixth cholera pandemic</td>\n",
       "      <td>1899</td>\n",
       "      <td>800000.0</td>\n",
       "      <td>2.098377</td>\n",
       "      <td>0</td>\n",
       "    </tr>\n",
       "    <tr>\n",
       "      <th>8</th>\n",
       "      <td>1900–1920 Uganda African trypanosomiasis epidemic</td>\n",
       "      <td>1900</td>\n",
       "      <td>200300000.0</td>\n",
       "      <td>525.381183</td>\n",
       "      <td>0</td>\n",
       "    </tr>\n",
       "    <tr>\n",
       "      <th>9</th>\n",
       "      <td>2009 swine flu pandemic</td>\n",
       "      <td>2009</td>\n",
       "      <td>151575400.0</td>\n",
       "      <td>397.577948</td>\n",
       "      <td>0</td>\n",
       "    </tr>\n",
       "  </tbody>\n",
       "</table>\n",
       "</div>"
      ],
      "text/plain": [
       "                                       Pandemic Name  Year  Death Count  \\\n",
       "0                                   Plague of Athens   429   75100000.0   \n",
       "1                    1596-1602 Spain plague epidemic  1596  600700000.0   \n",
       "2    1634–1640 Wyandot people epidemic of infections  1634    1525000.0   \n",
       "3                                      Naples Plague  1656    1250000.0   \n",
       "4                        1743 Sicily plague epidemic  1743    4050000.0   \n",
       "5     1802–1803 Saint-Domingue yellow fever epidemic  1802    2955000.0   \n",
       "6            1871 Buenos Aires yellow fever epidemic  1871    1326200.0   \n",
       "7                             Sixth cholera pandemic  1899     800000.0   \n",
       "8  1900–1920 Uganda African trypanosomiasis epidemic  1900  200300000.0   \n",
       "9                            2009 swine flu pandemic  2009  151575400.0   \n",
       "\n",
       "     Magnitude  Axis  \n",
       "0   196.985157     0  \n",
       "1  1575.618956     0  \n",
       "2     4.000031     0  \n",
       "3     3.278714     0  \n",
       "4    10.623034     0  \n",
       "5     7.750881     0  \n",
       "6     3.478585     0  \n",
       "7     2.098377     0  \n",
       "8   525.381183     0  \n",
       "9   397.577948     0  "
      ]
     },
     "execution_count": 624,
     "metadata": {},
     "output_type": "execute_result"
    }
   ],
   "source": [
    "df_magnitude"
   ]
  },
  {
   "cell_type": "code",
   "execution_count": 634,
   "metadata": {},
   "outputs": [
    {
     "data": {
      "application/vnd.plotly.v1+json": {
       "config": {
        "plotlyServerURL": "https://plot.ly"
       },
       "data": [
        {
         "hoverlabel": {
          "namelength": 0
         },
         "hovertemplate": "Pandemic Name=Plague of Athens<br>Axis=%{x}<br>Magnitude=%{y}<br>Death Count=%{marker.size}",
         "legendgroup": "Plague of Athens",
         "marker": {
          "color": "#636efa",
          "size": [
           75100000
          ],
          "sizemode": "area",
          "sizeref": 166861.11111111112,
          "symbol": "circle"
         },
         "mode": "markers",
         "name": "Plague of Athens",
         "showlegend": true,
         "type": "scatter",
         "x": [
          0
         ],
         "xaxis": "x",
         "y": [
          196.985156604511
         ],
         "yaxis": "y"
        },
        {
         "hoverlabel": {
          "namelength": 0
         },
         "hovertemplate": "Pandemic Name=1596-1602 Spain plague epidemic<br>Axis=%{x}<br>Magnitude=%{y}<br>Death Count=%{marker.size}",
         "legendgroup": "1596-1602 Spain plague epidemic",
         "marker": {
          "color": "#EF553B",
          "size": [
           600700000
          ],
          "sizemode": "area",
          "sizeref": 166861.11111111112,
          "symbol": "circle"
         },
         "mode": "markers",
         "name": "1596-1602 Spain plague epidemic",
         "showlegend": true,
         "type": "scatter",
         "x": [
          0
         ],
         "xaxis": "x",
         "y": [
          1575.6189556901431
         ],
         "yaxis": "y"
        },
        {
         "hoverlabel": {
          "namelength": 0
         },
         "hovertemplate": "Pandemic Name=1634–1640 Wyandot people epidemic of infections<br>Axis=%{x}<br>Magnitude=%{y}<br>Death Count=%{marker.size}",
         "legendgroup": "1634–1640 Wyandot people epidemic of infections",
         "marker": {
          "color": "#00cc96",
          "size": [
           1525000
          ],
          "sizemode": "area",
          "sizeref": 166861.11111111112,
          "symbol": "circle"
         },
         "mode": "markers",
         "name": "1634–1640 Wyandot people epidemic of infections",
         "showlegend": true,
         "type": "scatter",
         "x": [
          0
         ],
         "xaxis": "x",
         "y": [
          4.000031475657513
         ],
         "yaxis": "y"
        },
        {
         "hoverlabel": {
          "namelength": 0
         },
         "hovertemplate": "Pandemic Name=Naples Plague<br>Axis=%{x}<br>Magnitude=%{y}<br>Death Count=%{marker.size}",
         "legendgroup": "Naples Plague",
         "marker": {
          "color": "#ab63fa",
          "size": [
           1250000
          ],
          "sizemode": "area",
          "sizeref": 166861.11111111112,
          "symbol": "circle"
         },
         "mode": "markers",
         "name": "Naples Plague",
         "showlegend": true,
         "type": "scatter",
         "x": [
          0
         ],
         "xaxis": "x",
         "y": [
          3.278714324309437
         ],
         "yaxis": "y"
        },
        {
         "hoverlabel": {
          "namelength": 0
         },
         "hovertemplate": "Pandemic Name=1743 Sicily plague epidemic<br>Axis=%{x}<br>Magnitude=%{y}<br>Death Count=%{marker.size}",
         "legendgroup": "1743 Sicily plague epidemic",
         "marker": {
          "color": "#FFA15A",
          "size": [
           4050000
          ],
          "sizemode": "area",
          "sizeref": 166861.11111111112,
          "symbol": "circle"
         },
         "mode": "markers",
         "name": "1743 Sicily plague epidemic",
         "showlegend": true,
         "type": "scatter",
         "x": [
          0
         ],
         "xaxis": "x",
         "y": [
          10.623034410762576
         ],
         "yaxis": "y"
        },
        {
         "hoverlabel": {
          "namelength": 0
         },
         "hovertemplate": "Pandemic Name=1802–1803 Saint-Domingue yellow fever epidemic<br>Axis=%{x}<br>Magnitude=%{y}<br>Death Count=%{marker.size}",
         "legendgroup": "1802–1803 Saint-Domingue yellow fever epidemic",
         "marker": {
          "color": "#19d3f3",
          "size": [
           2955000
          ],
          "sizemode": "area",
          "sizeref": 166861.11111111112,
          "symbol": "circle"
         },
         "mode": "markers",
         "name": "1802–1803 Saint-Domingue yellow fever epidemic",
         "showlegend": true,
         "type": "scatter",
         "x": [
          0
         ],
         "xaxis": "x",
         "y": [
          7.75088066266751
         ],
         "yaxis": "y"
        },
        {
         "hoverlabel": {
          "namelength": 0
         },
         "hovertemplate": "Pandemic Name=1871 Buenos Aires yellow fever epidemic<br>Axis=%{x}<br>Magnitude=%{y}<br>Death Count=%{marker.size}",
         "legendgroup": "1871 Buenos Aires yellow fever epidemic",
         "marker": {
          "color": "#FF6692",
          "size": [
           1326200
          ],
          "sizemode": "area",
          "sizeref": 166861.11111111112,
          "symbol": "circle"
         },
         "mode": "markers",
         "name": "1871 Buenos Aires yellow fever epidemic",
         "showlegend": true,
         "type": "scatter",
         "x": [
          0
         ],
         "xaxis": "x",
         "y": [
          3.4785847495193405
         ],
         "yaxis": "y"
        },
        {
         "hoverlabel": {
          "namelength": 0
         },
         "hovertemplate": "Pandemic Name=Sixth cholera pandemic<br>Axis=%{x}<br>Magnitude=%{y}<br>Death Count=%{marker.size}",
         "legendgroup": "Sixth cholera pandemic",
         "marker": {
          "color": "#B6E880",
          "size": [
           800000
          ],
          "sizemode": "area",
          "sizeref": 166861.11111111112,
          "symbol": "circle"
         },
         "mode": "markers",
         "name": "Sixth cholera pandemic",
         "showlegend": true,
         "type": "scatter",
         "x": [
          0
         ],
         "xaxis": "x",
         "y": [
          2.0983771675580396
         ],
         "yaxis": "y"
        },
        {
         "hoverlabel": {
          "namelength": 0
         },
         "hovertemplate": "Pandemic Name=1900–1920 Uganda African trypanosomiasis epidemic<br>Axis=%{x}<br>Magnitude=%{y}<br>Death Count=%{marker.size}",
         "legendgroup": "1900–1920 Uganda African trypanosomiasis epidemic",
         "marker": {
          "color": "#FF97FF",
          "size": [
           200300000
          ],
          "sizemode": "area",
          "sizeref": 166861.11111111112,
          "symbol": "circle"
         },
         "mode": "markers",
         "name": "1900–1920 Uganda African trypanosomiasis epidemic",
         "showlegend": true,
         "type": "scatter",
         "x": [
          0
         ],
         "xaxis": "x",
         "y": [
          525.3811833273442
         ],
         "yaxis": "y"
        },
        {
         "hoverlabel": {
          "namelength": 0
         },
         "hovertemplate": "Pandemic Name=2009 swine flu pandemic<br>Axis=%{x}<br>Magnitude=%{y}<br>Death Count=%{marker.size}",
         "legendgroup": "2009 swine flu pandemic",
         "marker": {
          "color": "#FECB52",
          "size": [
           151575400
          ],
          "sizemode": "area",
          "sizeref": 166861.11111111112,
          "symbol": "circle"
         },
         "mode": "markers",
         "name": "2009 swine flu pandemic",
         "showlegend": true,
         "type": "scatter",
         "x": [
          0
         ],
         "xaxis": "x",
         "y": [
          397.57794815434613
         ],
         "yaxis": "y"
        }
       ],
       "layout": {
        "font": {
         "color": "#7f7f7f",
         "family": "Calibri, monospace",
         "size": 18
        },
        "height": 800,
        "legend": {
         "itemsizing": "constant",
         "title": {
          "text": "Pandemic Name"
         },
         "tracegroupgap": 0
        },
        "margin": {
         "t": 60
        },
        "template": {
         "data": {
          "bar": [
           {
            "error_x": {
             "color": "#2a3f5f"
            },
            "error_y": {
             "color": "#2a3f5f"
            },
            "marker": {
             "line": {
              "color": "#E5ECF6",
              "width": 0.5
             }
            },
            "type": "bar"
           }
          ],
          "barpolar": [
           {
            "marker": {
             "line": {
              "color": "#E5ECF6",
              "width": 0.5
             }
            },
            "type": "barpolar"
           }
          ],
          "carpet": [
           {
            "aaxis": {
             "endlinecolor": "#2a3f5f",
             "gridcolor": "white",
             "linecolor": "white",
             "minorgridcolor": "white",
             "startlinecolor": "#2a3f5f"
            },
            "baxis": {
             "endlinecolor": "#2a3f5f",
             "gridcolor": "white",
             "linecolor": "white",
             "minorgridcolor": "white",
             "startlinecolor": "#2a3f5f"
            },
            "type": "carpet"
           }
          ],
          "choropleth": [
           {
            "colorbar": {
             "outlinewidth": 0,
             "ticks": ""
            },
            "type": "choropleth"
           }
          ],
          "contour": [
           {
            "colorbar": {
             "outlinewidth": 0,
             "ticks": ""
            },
            "colorscale": [
             [
              0,
              "#0d0887"
             ],
             [
              0.1111111111111111,
              "#46039f"
             ],
             [
              0.2222222222222222,
              "#7201a8"
             ],
             [
              0.3333333333333333,
              "#9c179e"
             ],
             [
              0.4444444444444444,
              "#bd3786"
             ],
             [
              0.5555555555555556,
              "#d8576b"
             ],
             [
              0.6666666666666666,
              "#ed7953"
             ],
             [
              0.7777777777777778,
              "#fb9f3a"
             ],
             [
              0.8888888888888888,
              "#fdca26"
             ],
             [
              1,
              "#f0f921"
             ]
            ],
            "type": "contour"
           }
          ],
          "contourcarpet": [
           {
            "colorbar": {
             "outlinewidth": 0,
             "ticks": ""
            },
            "type": "contourcarpet"
           }
          ],
          "heatmap": [
           {
            "colorbar": {
             "outlinewidth": 0,
             "ticks": ""
            },
            "colorscale": [
             [
              0,
              "#0d0887"
             ],
             [
              0.1111111111111111,
              "#46039f"
             ],
             [
              0.2222222222222222,
              "#7201a8"
             ],
             [
              0.3333333333333333,
              "#9c179e"
             ],
             [
              0.4444444444444444,
              "#bd3786"
             ],
             [
              0.5555555555555556,
              "#d8576b"
             ],
             [
              0.6666666666666666,
              "#ed7953"
             ],
             [
              0.7777777777777778,
              "#fb9f3a"
             ],
             [
              0.8888888888888888,
              "#fdca26"
             ],
             [
              1,
              "#f0f921"
             ]
            ],
            "type": "heatmap"
           }
          ],
          "heatmapgl": [
           {
            "colorbar": {
             "outlinewidth": 0,
             "ticks": ""
            },
            "colorscale": [
             [
              0,
              "#0d0887"
             ],
             [
              0.1111111111111111,
              "#46039f"
             ],
             [
              0.2222222222222222,
              "#7201a8"
             ],
             [
              0.3333333333333333,
              "#9c179e"
             ],
             [
              0.4444444444444444,
              "#bd3786"
             ],
             [
              0.5555555555555556,
              "#d8576b"
             ],
             [
              0.6666666666666666,
              "#ed7953"
             ],
             [
              0.7777777777777778,
              "#fb9f3a"
             ],
             [
              0.8888888888888888,
              "#fdca26"
             ],
             [
              1,
              "#f0f921"
             ]
            ],
            "type": "heatmapgl"
           }
          ],
          "histogram": [
           {
            "marker": {
             "colorbar": {
              "outlinewidth": 0,
              "ticks": ""
             }
            },
            "type": "histogram"
           }
          ],
          "histogram2d": [
           {
            "colorbar": {
             "outlinewidth": 0,
             "ticks": ""
            },
            "colorscale": [
             [
              0,
              "#0d0887"
             ],
             [
              0.1111111111111111,
              "#46039f"
             ],
             [
              0.2222222222222222,
              "#7201a8"
             ],
             [
              0.3333333333333333,
              "#9c179e"
             ],
             [
              0.4444444444444444,
              "#bd3786"
             ],
             [
              0.5555555555555556,
              "#d8576b"
             ],
             [
              0.6666666666666666,
              "#ed7953"
             ],
             [
              0.7777777777777778,
              "#fb9f3a"
             ],
             [
              0.8888888888888888,
              "#fdca26"
             ],
             [
              1,
              "#f0f921"
             ]
            ],
            "type": "histogram2d"
           }
          ],
          "histogram2dcontour": [
           {
            "colorbar": {
             "outlinewidth": 0,
             "ticks": ""
            },
            "colorscale": [
             [
              0,
              "#0d0887"
             ],
             [
              0.1111111111111111,
              "#46039f"
             ],
             [
              0.2222222222222222,
              "#7201a8"
             ],
             [
              0.3333333333333333,
              "#9c179e"
             ],
             [
              0.4444444444444444,
              "#bd3786"
             ],
             [
              0.5555555555555556,
              "#d8576b"
             ],
             [
              0.6666666666666666,
              "#ed7953"
             ],
             [
              0.7777777777777778,
              "#fb9f3a"
             ],
             [
              0.8888888888888888,
              "#fdca26"
             ],
             [
              1,
              "#f0f921"
             ]
            ],
            "type": "histogram2dcontour"
           }
          ],
          "mesh3d": [
           {
            "colorbar": {
             "outlinewidth": 0,
             "ticks": ""
            },
            "type": "mesh3d"
           }
          ],
          "parcoords": [
           {
            "line": {
             "colorbar": {
              "outlinewidth": 0,
              "ticks": ""
             }
            },
            "type": "parcoords"
           }
          ],
          "pie": [
           {
            "automargin": true,
            "type": "pie"
           }
          ],
          "scatter": [
           {
            "marker": {
             "colorbar": {
              "outlinewidth": 0,
              "ticks": ""
             }
            },
            "type": "scatter"
           }
          ],
          "scatter3d": [
           {
            "line": {
             "colorbar": {
              "outlinewidth": 0,
              "ticks": ""
             }
            },
            "marker": {
             "colorbar": {
              "outlinewidth": 0,
              "ticks": ""
             }
            },
            "type": "scatter3d"
           }
          ],
          "scattercarpet": [
           {
            "marker": {
             "colorbar": {
              "outlinewidth": 0,
              "ticks": ""
             }
            },
            "type": "scattercarpet"
           }
          ],
          "scattergeo": [
           {
            "marker": {
             "colorbar": {
              "outlinewidth": 0,
              "ticks": ""
             }
            },
            "type": "scattergeo"
           }
          ],
          "scattergl": [
           {
            "marker": {
             "colorbar": {
              "outlinewidth": 0,
              "ticks": ""
             }
            },
            "type": "scattergl"
           }
          ],
          "scattermapbox": [
           {
            "marker": {
             "colorbar": {
              "outlinewidth": 0,
              "ticks": ""
             }
            },
            "type": "scattermapbox"
           }
          ],
          "scatterpolar": [
           {
            "marker": {
             "colorbar": {
              "outlinewidth": 0,
              "ticks": ""
             }
            },
            "type": "scatterpolar"
           }
          ],
          "scatterpolargl": [
           {
            "marker": {
             "colorbar": {
              "outlinewidth": 0,
              "ticks": ""
             }
            },
            "type": "scatterpolargl"
           }
          ],
          "scatterternary": [
           {
            "marker": {
             "colorbar": {
              "outlinewidth": 0,
              "ticks": ""
             }
            },
            "type": "scatterternary"
           }
          ],
          "surface": [
           {
            "colorbar": {
             "outlinewidth": 0,
             "ticks": ""
            },
            "colorscale": [
             [
              0,
              "#0d0887"
             ],
             [
              0.1111111111111111,
              "#46039f"
             ],
             [
              0.2222222222222222,
              "#7201a8"
             ],
             [
              0.3333333333333333,
              "#9c179e"
             ],
             [
              0.4444444444444444,
              "#bd3786"
             ],
             [
              0.5555555555555556,
              "#d8576b"
             ],
             [
              0.6666666666666666,
              "#ed7953"
             ],
             [
              0.7777777777777778,
              "#fb9f3a"
             ],
             [
              0.8888888888888888,
              "#fdca26"
             ],
             [
              1,
              "#f0f921"
             ]
            ],
            "type": "surface"
           }
          ],
          "table": [
           {
            "cells": {
             "fill": {
              "color": "#EBF0F8"
             },
             "line": {
              "color": "white"
             }
            },
            "header": {
             "fill": {
              "color": "#C8D4E3"
             },
             "line": {
              "color": "white"
             }
            },
            "type": "table"
           }
          ]
         },
         "layout": {
          "annotationdefaults": {
           "arrowcolor": "#2a3f5f",
           "arrowhead": 0,
           "arrowwidth": 1
          },
          "coloraxis": {
           "colorbar": {
            "outlinewidth": 0,
            "ticks": ""
           }
          },
          "colorscale": {
           "diverging": [
            [
             0,
             "#8e0152"
            ],
            [
             0.1,
             "#c51b7d"
            ],
            [
             0.2,
             "#de77ae"
            ],
            [
             0.3,
             "#f1b6da"
            ],
            [
             0.4,
             "#fde0ef"
            ],
            [
             0.5,
             "#f7f7f7"
            ],
            [
             0.6,
             "#e6f5d0"
            ],
            [
             0.7,
             "#b8e186"
            ],
            [
             0.8,
             "#7fbc41"
            ],
            [
             0.9,
             "#4d9221"
            ],
            [
             1,
             "#276419"
            ]
           ],
           "sequential": [
            [
             0,
             "#0d0887"
            ],
            [
             0.1111111111111111,
             "#46039f"
            ],
            [
             0.2222222222222222,
             "#7201a8"
            ],
            [
             0.3333333333333333,
             "#9c179e"
            ],
            [
             0.4444444444444444,
             "#bd3786"
            ],
            [
             0.5555555555555556,
             "#d8576b"
            ],
            [
             0.6666666666666666,
             "#ed7953"
            ],
            [
             0.7777777777777778,
             "#fb9f3a"
            ],
            [
             0.8888888888888888,
             "#fdca26"
            ],
            [
             1,
             "#f0f921"
            ]
           ],
           "sequentialminus": [
            [
             0,
             "#0d0887"
            ],
            [
             0.1111111111111111,
             "#46039f"
            ],
            [
             0.2222222222222222,
             "#7201a8"
            ],
            [
             0.3333333333333333,
             "#9c179e"
            ],
            [
             0.4444444444444444,
             "#bd3786"
            ],
            [
             0.5555555555555556,
             "#d8576b"
            ],
            [
             0.6666666666666666,
             "#ed7953"
            ],
            [
             0.7777777777777778,
             "#fb9f3a"
            ],
            [
             0.8888888888888888,
             "#fdca26"
            ],
            [
             1,
             "#f0f921"
            ]
           ]
          },
          "colorway": [
           "#636efa",
           "#EF553B",
           "#00cc96",
           "#ab63fa",
           "#FFA15A",
           "#19d3f3",
           "#FF6692",
           "#B6E880",
           "#FF97FF",
           "#FECB52"
          ],
          "font": {
           "color": "#2a3f5f"
          },
          "geo": {
           "bgcolor": "white",
           "lakecolor": "white",
           "landcolor": "#E5ECF6",
           "showlakes": true,
           "showland": true,
           "subunitcolor": "white"
          },
          "hoverlabel": {
           "align": "left"
          },
          "hovermode": "closest",
          "mapbox": {
           "style": "light"
          },
          "paper_bgcolor": "white",
          "plot_bgcolor": "#E5ECF6",
          "polar": {
           "angularaxis": {
            "gridcolor": "white",
            "linecolor": "white",
            "ticks": ""
           },
           "bgcolor": "#E5ECF6",
           "radialaxis": {
            "gridcolor": "white",
            "linecolor": "white",
            "ticks": ""
           }
          },
          "scene": {
           "xaxis": {
            "backgroundcolor": "#E5ECF6",
            "gridcolor": "white",
            "gridwidth": 2,
            "linecolor": "white",
            "showbackground": true,
            "ticks": "",
            "zerolinecolor": "white"
           },
           "yaxis": {
            "backgroundcolor": "#E5ECF6",
            "gridcolor": "white",
            "gridwidth": 2,
            "linecolor": "white",
            "showbackground": true,
            "ticks": "",
            "zerolinecolor": "white"
           },
           "zaxis": {
            "backgroundcolor": "#E5ECF6",
            "gridcolor": "white",
            "gridwidth": 2,
            "linecolor": "white",
            "showbackground": true,
            "ticks": "",
            "zerolinecolor": "white"
           }
          },
          "shapedefaults": {
           "line": {
            "color": "#2a3f5f"
           }
          },
          "ternary": {
           "aaxis": {
            "gridcolor": "white",
            "linecolor": "white",
            "ticks": ""
           },
           "baxis": {
            "gridcolor": "white",
            "linecolor": "white",
            "ticks": ""
           },
           "bgcolor": "#E5ECF6",
           "caxis": {
            "gridcolor": "white",
            "linecolor": "white",
            "ticks": ""
           }
          },
          "title": {
           "x": 0.05
          },
          "xaxis": {
           "automargin": true,
           "gridcolor": "white",
           "linecolor": "white",
           "ticks": "",
           "title": {
            "standoff": 15
           },
           "zerolinecolor": "white",
           "zerolinewidth": 2
          },
          "yaxis": {
           "automargin": true,
           "gridcolor": "white",
           "linecolor": "white",
           "ticks": "",
           "title": {
            "standoff": 15
           },
           "zerolinecolor": "white",
           "zerolinewidth": 2
          }
         }
        },
        "title": {
         "text": "Covid-19 vs Other Pandemics"
        },
        "width": 1000,
        "xaxis": {
         "anchor": "y",
         "domain": [
          0,
          1
         ],
         "showticklabels": false,
         "title": {
          "text": ""
         }
        },
        "yaxis": {
         "anchor": "x",
         "domain": [
          0,
          1
         ],
         "title": {
          "text": "Magnitude"
         }
        }
       }
      },
      "text/html": [
       "<div>\n",
       "        \n",
       "        \n",
       "            <div id=\"a2a57e8b-8031-493e-83ee-d618271ed68a\" class=\"plotly-graph-div\" style=\"height:800px; width:1000px;\"></div>\n",
       "            <script type=\"text/javascript\">\n",
       "                require([\"plotly\"], function(Plotly) {\n",
       "                    window.PLOTLYENV=window.PLOTLYENV || {};\n",
       "                    \n",
       "                if (document.getElementById(\"a2a57e8b-8031-493e-83ee-d618271ed68a\")) {\n",
       "                    Plotly.newPlot(\n",
       "                        'a2a57e8b-8031-493e-83ee-d618271ed68a',\n",
       "                        [{\"hoverlabel\": {\"namelength\": 0}, \"hovertemplate\": \"Pandemic Name=Plague of Athens<br>Axis=%{x}<br>Magnitude=%{y}<br>Death Count=%{marker.size}\", \"legendgroup\": \"Plague of Athens\", \"marker\": {\"color\": \"#636efa\", \"size\": [75100000.0], \"sizemode\": \"area\", \"sizeref\": 166861.11111111112, \"symbol\": \"circle\"}, \"mode\": \"markers\", \"name\": \"Plague of Athens\", \"showlegend\": true, \"type\": \"scatter\", \"x\": [0], \"xaxis\": \"x\", \"y\": [196.985156604511], \"yaxis\": \"y\"}, {\"hoverlabel\": {\"namelength\": 0}, \"hovertemplate\": \"Pandemic Name=1596-1602 Spain plague epidemic<br>Axis=%{x}<br>Magnitude=%{y}<br>Death Count=%{marker.size}\", \"legendgroup\": \"1596-1602 Spain plague epidemic\", \"marker\": {\"color\": \"#EF553B\", \"size\": [600700000.0], \"sizemode\": \"area\", \"sizeref\": 166861.11111111112, \"symbol\": \"circle\"}, \"mode\": \"markers\", \"name\": \"1596-1602 Spain plague epidemic\", \"showlegend\": true, \"type\": \"scatter\", \"x\": [0], \"xaxis\": \"x\", \"y\": [1575.6189556901431], \"yaxis\": \"y\"}, {\"hoverlabel\": {\"namelength\": 0}, \"hovertemplate\": \"Pandemic Name=1634\\u20131640 Wyandot people epidemic of infections<br>Axis=%{x}<br>Magnitude=%{y}<br>Death Count=%{marker.size}\", \"legendgroup\": \"1634\\u20131640 Wyandot people epidemic of infections\", \"marker\": {\"color\": \"#00cc96\", \"size\": [1525000.0], \"sizemode\": \"area\", \"sizeref\": 166861.11111111112, \"symbol\": \"circle\"}, \"mode\": \"markers\", \"name\": \"1634\\u20131640 Wyandot people epidemic of infections\", \"showlegend\": true, \"type\": \"scatter\", \"x\": [0], \"xaxis\": \"x\", \"y\": [4.000031475657513], \"yaxis\": \"y\"}, {\"hoverlabel\": {\"namelength\": 0}, \"hovertemplate\": \"Pandemic Name=Naples Plague<br>Axis=%{x}<br>Magnitude=%{y}<br>Death Count=%{marker.size}\", \"legendgroup\": \"Naples Plague\", \"marker\": {\"color\": \"#ab63fa\", \"size\": [1250000.0], \"sizemode\": \"area\", \"sizeref\": 166861.11111111112, \"symbol\": \"circle\"}, \"mode\": \"markers\", \"name\": \"Naples Plague\", \"showlegend\": true, \"type\": \"scatter\", \"x\": [0], \"xaxis\": \"x\", \"y\": [3.278714324309437], \"yaxis\": \"y\"}, {\"hoverlabel\": {\"namelength\": 0}, \"hovertemplate\": \"Pandemic Name=1743 Sicily plague epidemic<br>Axis=%{x}<br>Magnitude=%{y}<br>Death Count=%{marker.size}\", \"legendgroup\": \"1743 Sicily plague epidemic\", \"marker\": {\"color\": \"#FFA15A\", \"size\": [4050000.0], \"sizemode\": \"area\", \"sizeref\": 166861.11111111112, \"symbol\": \"circle\"}, \"mode\": \"markers\", \"name\": \"1743 Sicily plague epidemic\", \"showlegend\": true, \"type\": \"scatter\", \"x\": [0], \"xaxis\": \"x\", \"y\": [10.623034410762576], \"yaxis\": \"y\"}, {\"hoverlabel\": {\"namelength\": 0}, \"hovertemplate\": \"Pandemic Name=1802\\u20131803 Saint-Domingue yellow fever epidemic<br>Axis=%{x}<br>Magnitude=%{y}<br>Death Count=%{marker.size}\", \"legendgroup\": \"1802\\u20131803 Saint-Domingue yellow fever epidemic\", \"marker\": {\"color\": \"#19d3f3\", \"size\": [2955000.0], \"sizemode\": \"area\", \"sizeref\": 166861.11111111112, \"symbol\": \"circle\"}, \"mode\": \"markers\", \"name\": \"1802\\u20131803 Saint-Domingue yellow fever epidemic\", \"showlegend\": true, \"type\": \"scatter\", \"x\": [0], \"xaxis\": \"x\", \"y\": [7.75088066266751], \"yaxis\": \"y\"}, {\"hoverlabel\": {\"namelength\": 0}, \"hovertemplate\": \"Pandemic Name=1871 Buenos Aires yellow fever epidemic<br>Axis=%{x}<br>Magnitude=%{y}<br>Death Count=%{marker.size}\", \"legendgroup\": \"1871 Buenos Aires yellow fever epidemic\", \"marker\": {\"color\": \"#FF6692\", \"size\": [1326200.0], \"sizemode\": \"area\", \"sizeref\": 166861.11111111112, \"symbol\": \"circle\"}, \"mode\": \"markers\", \"name\": \"1871 Buenos Aires yellow fever epidemic\", \"showlegend\": true, \"type\": \"scatter\", \"x\": [0], \"xaxis\": \"x\", \"y\": [3.4785847495193405], \"yaxis\": \"y\"}, {\"hoverlabel\": {\"namelength\": 0}, \"hovertemplate\": \"Pandemic Name=Sixth cholera pandemic<br>Axis=%{x}<br>Magnitude=%{y}<br>Death Count=%{marker.size}\", \"legendgroup\": \"Sixth cholera pandemic\", \"marker\": {\"color\": \"#B6E880\", \"size\": [800000.0], \"sizemode\": \"area\", \"sizeref\": 166861.11111111112, \"symbol\": \"circle\"}, \"mode\": \"markers\", \"name\": \"Sixth cholera pandemic\", \"showlegend\": true, \"type\": \"scatter\", \"x\": [0], \"xaxis\": \"x\", \"y\": [2.0983771675580396], \"yaxis\": \"y\"}, {\"hoverlabel\": {\"namelength\": 0}, \"hovertemplate\": \"Pandemic Name=1900\\u20131920 Uganda African trypanosomiasis epidemic<br>Axis=%{x}<br>Magnitude=%{y}<br>Death Count=%{marker.size}\", \"legendgroup\": \"1900\\u20131920 Uganda African trypanosomiasis epidemic\", \"marker\": {\"color\": \"#FF97FF\", \"size\": [200300000.0], \"sizemode\": \"area\", \"sizeref\": 166861.11111111112, \"symbol\": \"circle\"}, \"mode\": \"markers\", \"name\": \"1900\\u20131920 Uganda African trypanosomiasis epidemic\", \"showlegend\": true, \"type\": \"scatter\", \"x\": [0], \"xaxis\": \"x\", \"y\": [525.3811833273442], \"yaxis\": \"y\"}, {\"hoverlabel\": {\"namelength\": 0}, \"hovertemplate\": \"Pandemic Name=2009 swine flu pandemic<br>Axis=%{x}<br>Magnitude=%{y}<br>Death Count=%{marker.size}\", \"legendgroup\": \"2009 swine flu pandemic\", \"marker\": {\"color\": \"#FECB52\", \"size\": [151575400.0], \"sizemode\": \"area\", \"sizeref\": 166861.11111111112, \"symbol\": \"circle\"}, \"mode\": \"markers\", \"name\": \"2009 swine flu pandemic\", \"showlegend\": true, \"type\": \"scatter\", \"x\": [0], \"xaxis\": \"x\", \"y\": [397.57794815434613], \"yaxis\": \"y\"}],\n",
       "                        {\"font\": {\"color\": \"#7f7f7f\", \"family\": \"Calibri, monospace\", \"size\": 18}, \"height\": 800, \"legend\": {\"itemsizing\": \"constant\", \"title\": {\"text\": \"Pandemic Name\"}, \"tracegroupgap\": 0}, \"margin\": {\"t\": 60}, \"template\": {\"data\": {\"bar\": [{\"error_x\": {\"color\": \"#2a3f5f\"}, \"error_y\": {\"color\": \"#2a3f5f\"}, \"marker\": {\"line\": {\"color\": \"#E5ECF6\", \"width\": 0.5}}, \"type\": \"bar\"}], \"barpolar\": [{\"marker\": {\"line\": {\"color\": \"#E5ECF6\", \"width\": 0.5}}, \"type\": \"barpolar\"}], \"carpet\": [{\"aaxis\": {\"endlinecolor\": \"#2a3f5f\", \"gridcolor\": \"white\", \"linecolor\": \"white\", \"minorgridcolor\": \"white\", \"startlinecolor\": \"#2a3f5f\"}, \"baxis\": {\"endlinecolor\": \"#2a3f5f\", \"gridcolor\": \"white\", \"linecolor\": \"white\", \"minorgridcolor\": \"white\", \"startlinecolor\": \"#2a3f5f\"}, \"type\": \"carpet\"}], \"choropleth\": [{\"colorbar\": {\"outlinewidth\": 0, \"ticks\": \"\"}, \"type\": \"choropleth\"}], \"contour\": [{\"colorbar\": {\"outlinewidth\": 0, \"ticks\": \"\"}, \"colorscale\": [[0.0, \"#0d0887\"], [0.1111111111111111, \"#46039f\"], [0.2222222222222222, \"#7201a8\"], [0.3333333333333333, \"#9c179e\"], [0.4444444444444444, \"#bd3786\"], [0.5555555555555556, \"#d8576b\"], [0.6666666666666666, \"#ed7953\"], [0.7777777777777778, \"#fb9f3a\"], [0.8888888888888888, \"#fdca26\"], [1.0, \"#f0f921\"]], \"type\": \"contour\"}], \"contourcarpet\": [{\"colorbar\": {\"outlinewidth\": 0, \"ticks\": \"\"}, \"type\": \"contourcarpet\"}], \"heatmap\": [{\"colorbar\": {\"outlinewidth\": 0, \"ticks\": \"\"}, \"colorscale\": [[0.0, \"#0d0887\"], [0.1111111111111111, \"#46039f\"], [0.2222222222222222, \"#7201a8\"], [0.3333333333333333, \"#9c179e\"], [0.4444444444444444, \"#bd3786\"], [0.5555555555555556, \"#d8576b\"], [0.6666666666666666, \"#ed7953\"], [0.7777777777777778, \"#fb9f3a\"], [0.8888888888888888, \"#fdca26\"], [1.0, \"#f0f921\"]], \"type\": \"heatmap\"}], \"heatmapgl\": [{\"colorbar\": {\"outlinewidth\": 0, \"ticks\": \"\"}, \"colorscale\": [[0.0, \"#0d0887\"], [0.1111111111111111, \"#46039f\"], [0.2222222222222222, \"#7201a8\"], [0.3333333333333333, \"#9c179e\"], [0.4444444444444444, \"#bd3786\"], [0.5555555555555556, \"#d8576b\"], [0.6666666666666666, \"#ed7953\"], [0.7777777777777778, \"#fb9f3a\"], [0.8888888888888888, \"#fdca26\"], [1.0, \"#f0f921\"]], \"type\": \"heatmapgl\"}], \"histogram\": [{\"marker\": {\"colorbar\": {\"outlinewidth\": 0, \"ticks\": \"\"}}, \"type\": \"histogram\"}], \"histogram2d\": [{\"colorbar\": {\"outlinewidth\": 0, \"ticks\": \"\"}, \"colorscale\": [[0.0, \"#0d0887\"], [0.1111111111111111, \"#46039f\"], [0.2222222222222222, \"#7201a8\"], [0.3333333333333333, \"#9c179e\"], [0.4444444444444444, \"#bd3786\"], [0.5555555555555556, \"#d8576b\"], [0.6666666666666666, \"#ed7953\"], [0.7777777777777778, \"#fb9f3a\"], [0.8888888888888888, \"#fdca26\"], [1.0, \"#f0f921\"]], \"type\": \"histogram2d\"}], \"histogram2dcontour\": [{\"colorbar\": {\"outlinewidth\": 0, \"ticks\": \"\"}, \"colorscale\": [[0.0, \"#0d0887\"], [0.1111111111111111, \"#46039f\"], [0.2222222222222222, \"#7201a8\"], [0.3333333333333333, \"#9c179e\"], [0.4444444444444444, \"#bd3786\"], [0.5555555555555556, \"#d8576b\"], [0.6666666666666666, \"#ed7953\"], [0.7777777777777778, \"#fb9f3a\"], [0.8888888888888888, \"#fdca26\"], [1.0, \"#f0f921\"]], \"type\": \"histogram2dcontour\"}], \"mesh3d\": [{\"colorbar\": {\"outlinewidth\": 0, \"ticks\": \"\"}, \"type\": \"mesh3d\"}], \"parcoords\": [{\"line\": {\"colorbar\": {\"outlinewidth\": 0, \"ticks\": \"\"}}, \"type\": \"parcoords\"}], \"pie\": [{\"automargin\": true, \"type\": \"pie\"}], \"scatter\": [{\"marker\": {\"colorbar\": {\"outlinewidth\": 0, \"ticks\": \"\"}}, \"type\": \"scatter\"}], \"scatter3d\": [{\"line\": {\"colorbar\": {\"outlinewidth\": 0, \"ticks\": \"\"}}, \"marker\": {\"colorbar\": {\"outlinewidth\": 0, \"ticks\": \"\"}}, \"type\": \"scatter3d\"}], \"scattercarpet\": [{\"marker\": {\"colorbar\": {\"outlinewidth\": 0, \"ticks\": \"\"}}, \"type\": \"scattercarpet\"}], \"scattergeo\": [{\"marker\": {\"colorbar\": {\"outlinewidth\": 0, \"ticks\": \"\"}}, \"type\": \"scattergeo\"}], \"scattergl\": [{\"marker\": {\"colorbar\": {\"outlinewidth\": 0, \"ticks\": \"\"}}, \"type\": \"scattergl\"}], \"scattermapbox\": [{\"marker\": {\"colorbar\": {\"outlinewidth\": 0, \"ticks\": \"\"}}, \"type\": \"scattermapbox\"}], \"scatterpolar\": [{\"marker\": {\"colorbar\": {\"outlinewidth\": 0, \"ticks\": \"\"}}, \"type\": \"scatterpolar\"}], \"scatterpolargl\": [{\"marker\": {\"colorbar\": {\"outlinewidth\": 0, \"ticks\": \"\"}}, \"type\": \"scatterpolargl\"}], \"scatterternary\": [{\"marker\": {\"colorbar\": {\"outlinewidth\": 0, \"ticks\": \"\"}}, \"type\": \"scatterternary\"}], \"surface\": [{\"colorbar\": {\"outlinewidth\": 0, \"ticks\": \"\"}, \"colorscale\": [[0.0, \"#0d0887\"], [0.1111111111111111, \"#46039f\"], [0.2222222222222222, \"#7201a8\"], [0.3333333333333333, \"#9c179e\"], [0.4444444444444444, \"#bd3786\"], [0.5555555555555556, \"#d8576b\"], [0.6666666666666666, \"#ed7953\"], [0.7777777777777778, \"#fb9f3a\"], [0.8888888888888888, \"#fdca26\"], [1.0, \"#f0f921\"]], \"type\": \"surface\"}], \"table\": [{\"cells\": {\"fill\": {\"color\": \"#EBF0F8\"}, \"line\": {\"color\": \"white\"}}, \"header\": {\"fill\": {\"color\": \"#C8D4E3\"}, \"line\": {\"color\": \"white\"}}, \"type\": \"table\"}]}, \"layout\": {\"annotationdefaults\": {\"arrowcolor\": \"#2a3f5f\", \"arrowhead\": 0, \"arrowwidth\": 1}, \"coloraxis\": {\"colorbar\": {\"outlinewidth\": 0, \"ticks\": \"\"}}, \"colorscale\": {\"diverging\": [[0, \"#8e0152\"], [0.1, \"#c51b7d\"], [0.2, \"#de77ae\"], [0.3, \"#f1b6da\"], [0.4, \"#fde0ef\"], [0.5, \"#f7f7f7\"], [0.6, \"#e6f5d0\"], [0.7, \"#b8e186\"], [0.8, \"#7fbc41\"], [0.9, \"#4d9221\"], [1, \"#276419\"]], \"sequential\": [[0.0, \"#0d0887\"], [0.1111111111111111, \"#46039f\"], [0.2222222222222222, \"#7201a8\"], [0.3333333333333333, \"#9c179e\"], [0.4444444444444444, \"#bd3786\"], [0.5555555555555556, \"#d8576b\"], [0.6666666666666666, \"#ed7953\"], [0.7777777777777778, \"#fb9f3a\"], [0.8888888888888888, \"#fdca26\"], [1.0, \"#f0f921\"]], \"sequentialminus\": [[0.0, \"#0d0887\"], [0.1111111111111111, \"#46039f\"], [0.2222222222222222, \"#7201a8\"], [0.3333333333333333, \"#9c179e\"], [0.4444444444444444, \"#bd3786\"], [0.5555555555555556, \"#d8576b\"], [0.6666666666666666, \"#ed7953\"], [0.7777777777777778, \"#fb9f3a\"], [0.8888888888888888, \"#fdca26\"], [1.0, \"#f0f921\"]]}, \"colorway\": [\"#636efa\", \"#EF553B\", \"#00cc96\", \"#ab63fa\", \"#FFA15A\", \"#19d3f3\", \"#FF6692\", \"#B6E880\", \"#FF97FF\", \"#FECB52\"], \"font\": {\"color\": \"#2a3f5f\"}, \"geo\": {\"bgcolor\": \"white\", \"lakecolor\": \"white\", \"landcolor\": \"#E5ECF6\", \"showlakes\": true, \"showland\": true, \"subunitcolor\": \"white\"}, \"hoverlabel\": {\"align\": \"left\"}, \"hovermode\": \"closest\", \"mapbox\": {\"style\": \"light\"}, \"paper_bgcolor\": \"white\", \"plot_bgcolor\": \"#E5ECF6\", \"polar\": {\"angularaxis\": {\"gridcolor\": \"white\", \"linecolor\": \"white\", \"ticks\": \"\"}, \"bgcolor\": \"#E5ECF6\", \"radialaxis\": {\"gridcolor\": \"white\", \"linecolor\": \"white\", \"ticks\": \"\"}}, \"scene\": {\"xaxis\": {\"backgroundcolor\": \"#E5ECF6\", \"gridcolor\": \"white\", \"gridwidth\": 2, \"linecolor\": \"white\", \"showbackground\": true, \"ticks\": \"\", \"zerolinecolor\": \"white\"}, \"yaxis\": {\"backgroundcolor\": \"#E5ECF6\", \"gridcolor\": \"white\", \"gridwidth\": 2, \"linecolor\": \"white\", \"showbackground\": true, \"ticks\": \"\", \"zerolinecolor\": \"white\"}, \"zaxis\": {\"backgroundcolor\": \"#E5ECF6\", \"gridcolor\": \"white\", \"gridwidth\": 2, \"linecolor\": \"white\", \"showbackground\": true, \"ticks\": \"\", \"zerolinecolor\": \"white\"}}, \"shapedefaults\": {\"line\": {\"color\": \"#2a3f5f\"}}, \"ternary\": {\"aaxis\": {\"gridcolor\": \"white\", \"linecolor\": \"white\", \"ticks\": \"\"}, \"baxis\": {\"gridcolor\": \"white\", \"linecolor\": \"white\", \"ticks\": \"\"}, \"bgcolor\": \"#E5ECF6\", \"caxis\": {\"gridcolor\": \"white\", \"linecolor\": \"white\", \"ticks\": \"\"}}, \"title\": {\"x\": 0.05}, \"xaxis\": {\"automargin\": true, \"gridcolor\": \"white\", \"linecolor\": \"white\", \"ticks\": \"\", \"title\": {\"standoff\": 15}, \"zerolinecolor\": \"white\", \"zerolinewidth\": 2}, \"yaxis\": {\"automargin\": true, \"gridcolor\": \"white\", \"linecolor\": \"white\", \"ticks\": \"\", \"title\": {\"standoff\": 15}, \"zerolinecolor\": \"white\", \"zerolinewidth\": 2}}}, \"title\": {\"text\": \"Covid-19 vs Other Pandemics\"}, \"width\": 1000, \"xaxis\": {\"anchor\": \"y\", \"domain\": [0.0, 1.0], \"showticklabels\": false, \"title\": {\"text\": \"\"}}, \"yaxis\": {\"anchor\": \"x\", \"domain\": [0.0, 1.0], \"title\": {\"text\": \"Magnitude\"}}},\n",
       "                        {\"responsive\": true}\n",
       "                    ).then(function(){\n",
       "                            \n",
       "var gd = document.getElementById('a2a57e8b-8031-493e-83ee-d618271ed68a');\n",
       "var x = new MutationObserver(function (mutations, observer) {{\n",
       "        var display = window.getComputedStyle(gd).display;\n",
       "        if (!display || display === 'none') {{\n",
       "            console.log([gd, 'removed!']);\n",
       "            Plotly.purge(gd);\n",
       "            observer.disconnect();\n",
       "        }}\n",
       "}});\n",
       "\n",
       "// Listen for the removal of the full notebook cells\n",
       "var notebookContainer = gd.closest('#notebook-container');\n",
       "if (notebookContainer) {{\n",
       "    x.observe(notebookContainer, {childList: true});\n",
       "}}\n",
       "\n",
       "// Listen for the clearing of the current output cell\n",
       "var outputEl = gd.closest('.output');\n",
       "if (outputEl) {{\n",
       "    x.observe(outputEl, {childList: true});\n",
       "}}\n",
       "\n",
       "                        })\n",
       "                };\n",
       "                });\n",
       "            </script>\n",
       "        </div>"
      ]
     },
     "metadata": {},
     "output_type": "display_data"
    }
   ],
   "source": [
    "#plotting data based on requirement\n",
    "fig = px.scatter(df_magnitude, x=\"Axis\", y=\"Magnitude\", size=\"Death Count\", color=\"Pandemic Name\",\n",
    "                 size_max=60,width=1000, height=1000)\n",
    "fig.update_layout(\n",
    "    height=800,\n",
    "    title_text='Covid-19 vs Other Pandemics',\n",
    "    yaxis_title=\"Magnitude\",\n",
    "     xaxis = go.XAxis(\n",
    "        title = \"\",\n",
    "        showticklabels=False),\n",
    "    font=dict(family=\"Calibri, monospace\",size=18,color=\"#7f7f7f\")\n",
    ")\n",
    "fig.show()"
   ]
  },
  {
   "cell_type": "markdown",
   "metadata": {},
   "source": [
    "Thank you! I Hope you enjoyed it."
   ]
  },
  {
   "cell_type": "code",
   "execution_count": null,
   "metadata": {},
   "outputs": [],
   "source": []
  }
 ],
 "metadata": {
  "kernelspec": {
   "display_name": "Python 3",
   "language": "python",
   "name": "python3"
  },
  "language_info": {
   "codemirror_mode": {
    "name": "ipython",
    "version": 3
   },
   "file_extension": ".py",
   "mimetype": "text/x-python",
   "name": "python",
   "nbconvert_exporter": "python",
   "pygments_lexer": "ipython3",
   "version": "3.7.1"
  }
 },
 "nbformat": 4,
 "nbformat_minor": 2
}
